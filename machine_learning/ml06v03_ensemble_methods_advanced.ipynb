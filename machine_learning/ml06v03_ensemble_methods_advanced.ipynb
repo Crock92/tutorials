{
 "cells": [
  {
   "cell_type": "markdown",
   "metadata": {},
   "source": [
    "# Ensemble Methods Advanced concepts"
   ]
  },
  {
   "cell_type": "code",
   "execution_count": 1,
   "metadata": {
    "collapsed": false
   },
   "outputs": [
    {
     "data": {
      "text/html": [
       "<div id='toc-container'><script type='text/javascript'>\n",
       "$(function() {\n",
       "    function regenTOC(){\n",
       "        element = $(\"#toc-container\");\n",
       "\n",
       "\tvar toc = document.createElement(\"div\");\n",
       "\t$(toc).attr(\"class\", \"table-of-contents\");\n",
       "\n",
       "\tvar curLevel = 0;\n",
       "\tvar containerStack = [toc];\n",
       "\tvar levelOfTag = {\"h2\": 1, \"h3\": 2, \"h4\": 3, \"h5\": 4};\n",
       "\n",
       "\tfunction pushLevel() {\n",
       "            var list = document.createElement(\"ul\");\n",
       "            containerStack.push(list);\n",
       "            curLevel++;\n",
       "\t}\n",
       "\t\n",
       "\tfunction popLevel() {\n",
       "            var lastContainer = containerStack.pop();\n",
       "            $(lastContainer).appendTo(containerStack[containerStack.length - 1]);\n",
       "            curLevel--;\n",
       "\t}\n",
       "\t\n",
       "\t$(\".text_cell_render :header\").each(function (i, elem) {\n",
       "            var level = levelOfTag[ elem.tagName.toLowerCase() ];\n",
       "\n",
       "            if (level === undefined)\n",
       "\t\treturn;\n",
       "\n",
       "            while (curLevel < level)\n",
       "\t\tpushLevel();\n",
       "            while (curLevel > level)\n",
       "\t\tpopLevel();\n",
       "            \n",
       "            var listItem = document.createElement(\"li\");\n",
       "            var link = document.createElement(\"a\");\n",
       "            $(link)\n",
       "\t\t.text($(elem).contents().first().text()) // Remove the pilcrow sign\n",
       "\t\t.attr(\"href\", \"#\" + $(elem).attr(\"id\"))\n",
       "\t\t.appendTo(listItem);\n",
       "            $(listItem).appendTo(containerStack[containerStack.length - 1]);\n",
       "\t});\n",
       "\t\n",
       "\twhile (curLevel > 0)\n",
       "            popLevel();\n",
       "\n",
       "        $(\"<a class='btn-update' href='#'>Update</a>\")\n",
       "          .click(regenTOC).prependTo(toc);\n",
       "\n",
       "\t$(toc).prepend(\"<div class='title'>Contents</div>\")\n",
       "          .wrap(\"<div class='toc-headings'/>\");\n",
       "\n",
       "        $(element).empty();\n",
       "        $(element).append(toc);\n",
       "    }\n",
       "\n",
       "    if (typeof(IPython) !== 'undefined')\n",
       "        $([IPython.events]).on('notebook_loaded.Notebook', regenTOC);\n",
       "    regenTOC();\n",
       "});\n",
       "\n",
       "</script></div>"
      ],
      "text/plain": [
       "<IPython.core.display.HTML object>"
      ]
     },
     "execution_count": 1,
     "metadata": {},
     "output_type": "execute_result"
    }
   ],
   "source": [
    "import addutils.toc ; addutils.toc.js(ipy_notebook=True)"
   ]
  },
  {
   "cell_type": "markdown",
   "metadata": {},
   "source": [
    "***Important*: install package `liac-arff` (use** `pip install liac-arff`**) in your environment<br>\n",
    "Do not use and uninstall the package `arff` if it's already installed in your environment**"
   ]
  },
  {
   "cell_type": "code",
   "execution_count": 2,
   "metadata": {
    "collapsed": false
   },
   "outputs": [
    {
     "data": {
      "text/html": [
       "<style>\n",
       ".text_cell_render @font-face {\n",
       "    font-family: \"Computer Modern\";\n",
       "    src: url('http://mirrors.ctan.org/fonts/cm-unicode/fonts/otf/cmunss.otf');\n",
       "}\n",
       "\n",
       "div.cell {\n",
       "    width: 900px;\n",
       "    margin-left: 0% !important;\n",
       "    margin-right: 0%;\n",
       "}\n",
       "\n",
       "code {\n",
       "    font-size:10pt;\n",
       "}\n",
       "\n",
       ".text_cell_render  h1 {\n",
       "    font-family: Tahoma, sans-serif;\n",
       "    color: rgb( 10, 88, 126 );\n",
       "    font-size:28pt;\n",
       "}\n",
       ".text_cell_render h2 {\n",
       "    font-family: Tahoma, sans-serif;\n",
       "    color: rgb( 10, 88, 126 );\n",
       "    font-size:24pt;\n",
       "}\n",
       ".text_cell_render h3 {\n",
       "    font-family: Tahoma, sans-serif;\n",
       "    color: rgb( 10, 88, 126 );\n",
       "    font-size:20pt;\n",
       "}\n",
       ".text_cell_render h4 {\n",
       "    font-family: Tahoma, sans-serif;\n",
       "    color: rgb( 10, 88, 126 );\n",
       "    font-size:18pt;\n",
       "    margin-top:12px;\n",
       "    margin-bottom: 3px;\n",
       "}\n",
       "\n",
       ".text_cell_render h5 {\n",
       "    font-weight: 300;\n",
       "    font-size: 11pt;\n",
       "    color: rgb( 48, 48, 48 );\n",
       "    font-style: italic;\n",
       "    margin-bottom: .5em;\n",
       "    margin-top: 0.5em;\n",
       "    display: block;\n",
       "}\n",
       "\n",
       ".text_cell_render ul {\n",
       "    font-family: Tahoma, sans-serif;\n",
       "    color: rgb( 90, 90, 90 );\n",
       "    font-size:11pt;\n",
       "    line-height: 185%;\n",
       "}\n",
       "\n",
       ".text_cell_render yp {\n",
       "    font-family: Tahoma, sans-serif;\n",
       "    color: rgb( 90, 90, 90 );\n",
       "    font-size:11pt;\n",
       "}\n",
       "\n",
       ".text_cell_render strong {\n",
       "    font-family: Tahoma, sans-serif;\n",
       "    color: rgb( 30, 30, 30 );\n",
       "    font-size:11pt;\n",
       "}\n",
       "\n",
       ".text_cell_render a:link {\n",
       "    font-family: Tahoma, sans-serif;\n",
       "    color: rgb( 10, 88, 126 );\n",
       "    font-size:11pt;\n",
       "}\n",
       "\n",
       ".text_cell_render a:visited {\n",
       "    color:rgb( 10, 88, 126 );\n",
       "}\n",
       "\n",
       ".text_cell_render {\n",
       "    font-family: Helvetica, Courier, Computer Modern, \"Helvetica Neue\", Arial, Geneva, sans-serif;\n",
       "    color: rgb( 84, 84, 84 );\n",
       "    font-size:11pt;\n",
       "    line-height: 125%;\n",
       "    font-size: 100%;\n",
       "    width:800px;\n",
       "}\n",
       "\n",
       ".CodeMirror {\n",
       "    font-family: Courier, \"Source Code Pro\", source-code-pro,Consolas, monospace;\n",
       "}\n",
       "\n",
       ".warning {\n",
       "    color: rgb( 240, 20, 20 );\n",
       "}\n",
       "\n",
       "/* Pandas tables */\n",
       "/*\n",
       ".rendered_html td {\n",
       "    text-align: right;\n",
       "}\n",
       "*/\n",
       "\n",
       "table.dataframe td {\n",
       "    text-align: right;\n",
       "}\n",
       "\n",
       ".output .table-of-contents {\n",
       "    border: 1px #cecece solid;\n",
       "    background-color: #fafafa;\n",
       "    padding-top: 10px;\n",
       "    padding-bottom: 5px;\n",
       "    padding-right: 15px;\n",
       "    padding-left: 0px;\n",
       "    margin-bottom: 20px;\n",
       "    display: inline-block;\n",
       "    position: relative;\n",
       "}\n",
       "\n",
       ".output .table-of-contents ul {\n",
       "    list-style-type: none;\n",
       "    padding-left: 20px;\n",
       "}\n",
       "\n",
       ".output .table-of-contents .title {\n",
       "    font-weight: bold;\n",
       "    font-height: 11pt;\n",
       "    padding-left: 20px; /* looks better if it's the same to the <ul> */\n",
       "}\n",
       "\n",
       ".output .table-of-contents .btn-update {\n",
       "    position: absolute;\n",
       "    float: right;\n",
       "    right: 11px;\n",
       "    top: 4px;\n",
       "    font-size: 9pt;\n",
       "}\n",
       "\n",
       "</style>\n",
       "<script>\n",
       "    MathJax.Hub.Config({\n",
       "                        TeX: {\n",
       "                           extensions: [\"AMSmath.js\"]\n",
       "                           },\n",
       "                displayAlign: 'center', // Change this to 'center' to center equations.\n",
       "                \"HTML-CSS\": {\n",
       "                    styles: {'.MathJax_Display': {\"margin\": 4}}\n",
       "                }\n",
       "        });\n",
       "</script>\n"
      ],
      "text/plain": [
       "<IPython.core.display.HTML object>"
      ]
     },
     "execution_count": 2,
     "metadata": {},
     "output_type": "execute_result"
    }
   ],
   "source": [
    "import scipy.io\n",
    "import numpy as np\n",
    "import pandas as pd\n",
    "from time import time\n",
    "from sklearn import grid_search, cross_validation, metrics, ensemble\n",
    "import arff\n",
    "from addutils import css_notebook\n",
    "import matplotlib.pyplot as plt\n",
    "%matplotlib inline\n",
    "css_notebook()"
   ]
  },
  {
   "cell_type": "markdown",
   "metadata": {},
   "source": [
    "## 1 Introduction"
   ]
  },
  {
   "cell_type": "markdown",
   "metadata": {},
   "source": [
    "In this notebook we introduce some advanced techniques that can be used effectively with ensemble methods:\n",
    "\n",
    "- OOB estimates\n",
    "- feature importance\n",
    "- proximity plot\n",
    "\n",
    "In the last part of the notebook, we introduce the `randomForest` package for the **R** language. It is a standard implementation of the Random Forest algorithm but it has few differences w.r.t. the implementation of scikit-learn. The main concept that will be introduced are:\n",
    "\n",
    "- alternative method for variable importance\n",
    "- feature selection\n",
    "- proximity plot"
   ]
  },
  {
   "cell_type": "markdown",
   "metadata": {},
   "source": [
    "## 2 Out of Bag Estimates"
   ]
  },
  {
   "cell_type": "markdown",
   "metadata": {},
   "source": [
    "When using **ensemble methods** based upon **B**ootstrap **agg**regation or **Bagging**, i.e. using sampling with replacement, a part of the training set remains unused. For each classifier in the ensemble, a different part of the training set is left out. This left out portion can be used to **estimate the generalization error without having to rely on a separate Validation Set**. This estimate comes “for free” as no additional data is needed and can be used for model selection. \n",
    "\n",
    "This is currently implemented in the following classes:\n",
    "\n",
    "  * `RandomForestClassifier` / `RandomForestRegressor`\n",
    "  * `ExtraTreesClassifier` / `ExtraTreesRegressor`\n",
    "  * `GradientBoostingClassifier` / `GradientBoostingRegressor` \n",
    "\n",
    "**Remarks**\n",
    "\n",
    "In GradientBoosting OOB score is available only when `subsample` $< 1.0$. It can be used for a different purpose, that is finding the optimal number of boosting iterations, but it is a pessimistic estimator of the true testing error. *Use it only for saving computataional time since, for example, cross-validation is more demanding*."
   ]
  },
  {
   "cell_type": "markdown",
   "metadata": {},
   "source": [
    "### 2.1 Phishing Websites Data Set\n",
    "For testing oob score properties of ensemble method we used a publicly available dataset. The dataset is the Phishing Websites Data Set and can be downloaded from [here](https://archive.ics.uci.edu/ml/datasets/Phishing+Websites). This dataset is anonymized by replacing the actual strings with describing values.\n",
    "\n",
    "The dataset is available in Weka format, so we have to use the *Weka arff file type reader for python* to read it."
   ]
  },
  {
   "cell_type": "code",
   "execution_count": 3,
   "metadata": {
    "collapsed": false
   },
   "outputs": [
    {
     "name": "stdout",
     "output_type": "stream",
     "text": [
      "Keys: \n",
      "- attributes\n",
      "- relation\n",
      "- description\n",
      "- data\n"
     ]
    }
   ],
   "source": [
    "#load the dataset\n",
    "data = arff.load(open('example_data/Training Dataset.arff', 'rb'))\n",
    "print \"Keys: \"\n",
    "for k in data.keys():\n",
    "    print \"- \" + k"
   ]
  },
  {
   "cell_type": "markdown",
   "metadata": {},
   "source": [
    "In \"attributes\" are stored the column names while actual data is stored in \"data\". The dataset is further divided into training and test set to compare OOB score with CV and held out set."
   ]
  },
  {
   "cell_type": "code",
   "execution_count": 4,
   "metadata": {
    "collapsed": false
   },
   "outputs": [
    {
     "name": "stdout",
     "output_type": "stream",
     "text": [
      "Shape of the data: (11055, 31)\n",
      "Training set / Test set number of samples: 8844, 2211\n",
      "Number of features: 30\n"
     ]
    }
   ],
   "source": [
    "#use the dataset to build a dataframe\n",
    "cols = [at[0] for at in data['attributes']]\n",
    "df = pd.DataFrame(data['data'], dtype=int, columns=cols)\n",
    "print \"Shape of the data: {0}\".format(df.shape)\n",
    "target = df.iloc[:,-1]\n",
    "train = df.iloc[:,:-1]\n",
    "#split the dataframe in train / test\n",
    "X_train, X_test, y_train, y_test = cross_validation.train_test_split(train, \n",
    "                                                                     target, \n",
    "                                                                     test_size=0.2)\n",
    "print \"Training set / Test set number of samples: {0}, {1}\".format(X_train.shape[0], \n",
    "                                                                   X_test.shape[0])\n",
    "print \"Number of features: {0}\".format(X_train.shape[1])"
   ]
  },
  {
   "cell_type": "code",
   "execution_count": 5,
   "metadata": {
    "collapsed": false
   },
   "outputs": [
    {
     "data": {
      "text/html": [
       "<div>\n",
       "<table border=\"1\" class=\"dataframe\">\n",
       "  <thead>\n",
       "    <tr style=\"text-align: right;\">\n",
       "      <th></th>\n",
       "      <th>having_IP_Address</th>\n",
       "      <th>URL_Length</th>\n",
       "      <th>Shortining_Service</th>\n",
       "      <th>...</th>\n",
       "      <th>Links_pointing_to_page</th>\n",
       "      <th>Statistical_report</th>\n",
       "      <th>Result</th>\n",
       "    </tr>\n",
       "  </thead>\n",
       "  <tbody>\n",
       "    <tr>\n",
       "      <th>0</th>\n",
       "      <td>-1</td>\n",
       "      <td>1</td>\n",
       "      <td>1</td>\n",
       "      <td>...</td>\n",
       "      <td>1</td>\n",
       "      <td>-1</td>\n",
       "      <td>-1</td>\n",
       "    </tr>\n",
       "    <tr>\n",
       "      <th>1</th>\n",
       "      <td>1</td>\n",
       "      <td>1</td>\n",
       "      <td>1</td>\n",
       "      <td>...</td>\n",
       "      <td>1</td>\n",
       "      <td>1</td>\n",
       "      <td>-1</td>\n",
       "    </tr>\n",
       "    <tr>\n",
       "      <th>2</th>\n",
       "      <td>1</td>\n",
       "      <td>0</td>\n",
       "      <td>1</td>\n",
       "      <td>...</td>\n",
       "      <td>0</td>\n",
       "      <td>-1</td>\n",
       "      <td>-1</td>\n",
       "    </tr>\n",
       "  </tbody>\n",
       "</table>\n",
       "<p>3 rows × 31 columns</p>\n",
       "</div>"
      ],
      "text/plain": [
       "   having_IP_Address  URL_Length  Shortining_Service   ...    \\\n",
       "0                 -1           1                   1   ...     \n",
       "1                  1           1                   1   ...     \n",
       "2                  1           0                   1   ...     \n",
       "\n",
       "   Links_pointing_to_page  Statistical_report  Result  \n",
       "0                       1                  -1      -1  \n",
       "1                       1                   1      -1  \n",
       "2                       0                  -1      -1  \n",
       "\n",
       "[3 rows x 31 columns]"
      ]
     },
     "execution_count": 5,
     "metadata": {},
     "output_type": "execute_result"
    }
   ],
   "source": [
    "pd.options.display.max_columns=6\n",
    "df.head(3)"
   ]
  },
  {
   "cell_type": "markdown",
   "metadata": {},
   "source": [
    "### 2.2 OOB estimate Random Forest\n",
    "Test OOB score against cross-validation and test set. In order to perform OOB score calculation the option oob_score must be set to True."
   ]
  },
  {
   "cell_type": "code",
   "execution_count": 6,
   "metadata": {
    "collapsed": false
   },
   "outputs": [
    {
     "name": "stdout",
     "output_type": "stream",
     "text": [
      "RF fit done in 0.372[s]\n",
      "CV score calculated in 2.638[s]\n"
     ]
    }
   ],
   "source": [
    "t0 = time()\n",
    "rfc = ensemble.RandomForestClassifier(n_estimators=100, oob_score=True, random_state=42,\n",
    "                                      n_jobs=-1)\n",
    "rfc.fit(X_train, y_train)\n",
    "print 'RF fit done in %0.3f[s]' %(time() - t0)\n",
    "t0 = time()\n",
    "cv_score = cross_validation.cross_val_score(rfc, train, target, cv=15, n_jobs=-1)\n",
    "print 'CV score calculated in %0.3f[s]' %(time() - t0)"
   ]
  },
  {
   "cell_type": "markdown",
   "metadata": {},
   "source": [
    "As can be seen in this example, using CV to measure the score takes time and it is similar to that obtained from OOB samples, that comes with the algorithm at no additional computational costs."
   ]
  },
  {
   "cell_type": "code",
   "execution_count": 7,
   "metadata": {
    "collapsed": false
   },
   "outputs": [
    {
     "name": "stdout",
     "output_type": "stream",
     "text": [
      "Score comparison:\n",
      "F1 score (on the test set):              0.976840\n",
      "OOB score:                               0.972524\n",
      "CV score (on the entire training set):   0.971676\n"
     ]
    }
   ],
   "source": [
    "print 'Score comparison:'\n",
    "print 'F1 score (on the test set):'.ljust(40), '%f' % metrics.f1_score(rfc.predict(X_test),\\\n",
    "                                                                       y_test)\n",
    "print 'OOB score:'.ljust(40), '%f' % rfc.oob_score_\n",
    "print 'CV score (on the entire training set):'.ljust(40), '%f' % cv_score.mean()"
   ]
  },
  {
   "cell_type": "markdown",
   "metadata": {},
   "source": [
    "### 2.3 OOB estimate Gradient Boosting"
   ]
  },
  {
   "cell_type": "code",
   "execution_count": 8,
   "metadata": {
    "collapsed": false
   },
   "outputs": [
    {
     "name": "stdout",
     "output_type": "stream",
     "text": [
      "Accuracy: 0.9729\n"
     ]
    },
    {
     "ename": "KeyboardInterrupt",
     "evalue": "",
     "output_type": "error",
     "traceback": [
      "\u001b[0;31m---------------------------------------------------------------------------\u001b[0m",
      "\u001b[0;31mKeyboardInterrupt\u001b[0m                         Traceback (most recent call last)",
      "\u001b[0;32m<ipython-input-8-5f81aeda6e3b>\u001b[0m in \u001b[0;36m<module>\u001b[0;34m()\u001b[0m\n\u001b[1;32m     31\u001b[0m \u001b[0;34m\u001b[0m\u001b[0m\n\u001b[1;32m     32\u001b[0m \u001b[0;31m# Estimate best n_estimator using cross-validation\u001b[0m\u001b[0;34m\u001b[0m\u001b[0;34m\u001b[0m\u001b[0m\n\u001b[0;32m---> 33\u001b[0;31m \u001b[0mcv_score\u001b[0m \u001b[0;34m=\u001b[0m \u001b[0mcv_estimate\u001b[0m\u001b[0;34m(\u001b[0m\u001b[0;36m3\u001b[0m\u001b[0;34m)\u001b[0m\u001b[0;34m\u001b[0m\u001b[0m\n\u001b[0m\u001b[1;32m     34\u001b[0m \u001b[0;34m\u001b[0m\u001b[0m\n\u001b[1;32m     35\u001b[0m \u001b[0;31m# Compute best n_estimator for test data\u001b[0m\u001b[0;34m\u001b[0m\u001b[0;34m\u001b[0m\u001b[0m\n",
      "\u001b[0;32m<ipython-input-8-5f81aeda6e3b>\u001b[0m in \u001b[0;36mcv_estimate\u001b[0;34m(n_folds)\u001b[0m\n\u001b[1;32m     24\u001b[0m     \u001b[0mval_scores\u001b[0m \u001b[0;34m=\u001b[0m \u001b[0mnp\u001b[0m\u001b[0;34m.\u001b[0m\u001b[0mzeros\u001b[0m\u001b[0;34m(\u001b[0m\u001b[0;34m(\u001b[0m\u001b[0mn_estimators\u001b[0m\u001b[0;34m,\u001b[0m\u001b[0;34m)\u001b[0m\u001b[0;34m,\u001b[0m \u001b[0mdtype\u001b[0m\u001b[0;34m=\u001b[0m\u001b[0mnp\u001b[0m\u001b[0;34m.\u001b[0m\u001b[0mfloat64\u001b[0m\u001b[0;34m)\u001b[0m\u001b[0;34m\u001b[0m\u001b[0m\n\u001b[1;32m     25\u001b[0m     \u001b[0;32mfor\u001b[0m \u001b[0mtrain\u001b[0m\u001b[0;34m,\u001b[0m \u001b[0mtest\u001b[0m \u001b[0;32min\u001b[0m \u001b[0mcv\u001b[0m\u001b[0;34m:\u001b[0m\u001b[0;34m\u001b[0m\u001b[0m\n\u001b[0;32m---> 26\u001b[0;31m         \u001b[0mcv_clf\u001b[0m\u001b[0;34m.\u001b[0m\u001b[0mfit\u001b[0m\u001b[0;34m(\u001b[0m\u001b[0mX_train\u001b[0m\u001b[0;34m.\u001b[0m\u001b[0miloc\u001b[0m\u001b[0;34m[\u001b[0m\u001b[0mtrain\u001b[0m\u001b[0;34m]\u001b[0m\u001b[0;34m,\u001b[0m \u001b[0my_train\u001b[0m\u001b[0;34m.\u001b[0m\u001b[0miloc\u001b[0m\u001b[0;34m[\u001b[0m\u001b[0mtrain\u001b[0m\u001b[0;34m]\u001b[0m\u001b[0;34m)\u001b[0m\u001b[0;34m\u001b[0m\u001b[0m\n\u001b[0m\u001b[1;32m     27\u001b[0m         \u001b[0mval_scores\u001b[0m \u001b[0;34m+=\u001b[0m \u001b[0mheldout_score\u001b[0m\u001b[0;34m(\u001b[0m\u001b[0mcv_clf\u001b[0m\u001b[0;34m,\u001b[0m \u001b[0mX_train\u001b[0m\u001b[0;34m.\u001b[0m\u001b[0miloc\u001b[0m\u001b[0;34m[\u001b[0m\u001b[0mtest\u001b[0m\u001b[0;34m]\u001b[0m\u001b[0;34m,\u001b[0m \u001b[0my_train\u001b[0m\u001b[0;34m.\u001b[0m\u001b[0miloc\u001b[0m\u001b[0;34m[\u001b[0m\u001b[0mtest\u001b[0m\u001b[0;34m]\u001b[0m\u001b[0;34m)\u001b[0m\u001b[0;34m\u001b[0m\u001b[0m\n\u001b[1;32m     28\u001b[0m     \u001b[0mval_scores\u001b[0m \u001b[0;34m/=\u001b[0m \u001b[0mn_folds\u001b[0m\u001b[0;34m\u001b[0m\u001b[0m\n",
      "\u001b[0;32m/Users/enrico/anaconda/lib/python2.7/site-packages/sklearn/ensemble/gradient_boosting.pyc\u001b[0m in \u001b[0;36mfit\u001b[0;34m(self, X, y, sample_weight, monitor)\u001b[0m\n\u001b[1;32m    978\u001b[0m         \u001b[0;31m# fit the boosting stages\u001b[0m\u001b[0;34m\u001b[0m\u001b[0;34m\u001b[0m\u001b[0m\n\u001b[1;32m    979\u001b[0m         n_stages = self._fit_stages(X, y, y_pred, sample_weight, random_state,\n\u001b[0;32m--> 980\u001b[0;31m                                     begin_at_stage, monitor)\n\u001b[0m\u001b[1;32m    981\u001b[0m         \u001b[0;31m# change shape of arrays after fit (early-stopping or additional ests)\u001b[0m\u001b[0;34m\u001b[0m\u001b[0;34m\u001b[0m\u001b[0m\n\u001b[1;32m    982\u001b[0m         \u001b[0;32mif\u001b[0m \u001b[0mn_stages\u001b[0m \u001b[0;34m!=\u001b[0m \u001b[0mself\u001b[0m\u001b[0;34m.\u001b[0m\u001b[0mestimators_\u001b[0m\u001b[0;34m.\u001b[0m\u001b[0mshape\u001b[0m\u001b[0;34m[\u001b[0m\u001b[0;36m0\u001b[0m\u001b[0;34m]\u001b[0m\u001b[0;34m:\u001b[0m\u001b[0;34m\u001b[0m\u001b[0m\n",
      "\u001b[0;32m/Users/enrico/anaconda/lib/python2.7/site-packages/sklearn/ensemble/gradient_boosting.pyc\u001b[0m in \u001b[0;36m_fit_stages\u001b[0;34m(self, X, y, y_pred, sample_weight, random_state, begin_at_stage, monitor)\u001b[0m\n\u001b[1;32m   1038\u001b[0m             y_pred = self._fit_stage(i, X, y, y_pred, sample_weight,\n\u001b[1;32m   1039\u001b[0m                                      \u001b[0msample_mask\u001b[0m\u001b[0;34m,\u001b[0m \u001b[0mcriterion\u001b[0m\u001b[0;34m,\u001b[0m \u001b[0msplitter\u001b[0m\u001b[0;34m,\u001b[0m\u001b[0;34m\u001b[0m\u001b[0m\n\u001b[0;32m-> 1040\u001b[0;31m                                      random_state)\n\u001b[0m\u001b[1;32m   1041\u001b[0m \u001b[0;34m\u001b[0m\u001b[0m\n\u001b[1;32m   1042\u001b[0m             \u001b[0;31m# track deviance (= loss)\u001b[0m\u001b[0;34m\u001b[0m\u001b[0;34m\u001b[0m\u001b[0m\n",
      "\u001b[0;32m/Users/enrico/anaconda/lib/python2.7/site-packages/sklearn/ensemble/gradient_boosting.pyc\u001b[0m in \u001b[0;36m_fit_stage\u001b[0;34m(self, i, X, y, y_pred, sample_weight, sample_mask, criterion, splitter, random_state)\u001b[0m\n\u001b[1;32m    764\u001b[0m \u001b[0;34m\u001b[0m\u001b[0m\n\u001b[1;32m    765\u001b[0m             tree.fit(X, residual, sample_weight=sample_weight,\n\u001b[0;32m--> 766\u001b[0;31m                      check_input=False)\n\u001b[0m\u001b[1;32m    767\u001b[0m \u001b[0;34m\u001b[0m\u001b[0m\n\u001b[1;32m    768\u001b[0m             \u001b[0;31m# update tree leaves\u001b[0m\u001b[0;34m\u001b[0m\u001b[0;34m\u001b[0m\u001b[0m\n",
      "\u001b[0;32m/Users/enrico/anaconda/lib/python2.7/site-packages/sklearn/tree/tree.pyc\u001b[0m in \u001b[0;36mfit\u001b[0;34m(self, X, y, sample_weight, check_input)\u001b[0m\n\u001b[1;32m    302\u001b[0m                                            max_leaf_nodes)\n\u001b[1;32m    303\u001b[0m \u001b[0;34m\u001b[0m\u001b[0m\n\u001b[0;32m--> 304\u001b[0;31m         \u001b[0mbuilder\u001b[0m\u001b[0;34m.\u001b[0m\u001b[0mbuild\u001b[0m\u001b[0;34m(\u001b[0m\u001b[0mself\u001b[0m\u001b[0;34m.\u001b[0m\u001b[0mtree_\u001b[0m\u001b[0;34m,\u001b[0m \u001b[0mX\u001b[0m\u001b[0;34m,\u001b[0m \u001b[0my\u001b[0m\u001b[0;34m,\u001b[0m \u001b[0msample_weight\u001b[0m\u001b[0;34m)\u001b[0m\u001b[0;34m\u001b[0m\u001b[0m\n\u001b[0m\u001b[1;32m    305\u001b[0m \u001b[0;34m\u001b[0m\u001b[0m\n\u001b[1;32m    306\u001b[0m         \u001b[0;32mif\u001b[0m \u001b[0mself\u001b[0m\u001b[0;34m.\u001b[0m\u001b[0mn_outputs_\u001b[0m \u001b[0;34m==\u001b[0m \u001b[0;36m1\u001b[0m\u001b[0;34m:\u001b[0m\u001b[0;34m\u001b[0m\u001b[0m\n",
      "\u001b[0;31mKeyboardInterrupt\u001b[0m: "
     ]
    }
   ],
   "source": [
    "# Fit classifier with out-of-bag estimates\n",
    "params = {'n_estimators': 10200, 'max_depth': 3, 'subsample': 0.5,\n",
    "          'learning_rate': 0.01, 'min_samples_leaf': 1, 'random_state': 3}\n",
    "clf = ensemble.GradientBoostingClassifier(**params)\n",
    "\n",
    "clf.fit(X_train, y_train)\n",
    "acc = clf.score(X_test, y_test)\n",
    "print(\"Accuracy: {:.4f}\".format(acc))\n",
    "\n",
    "n_estimators = params['n_estimators']\n",
    "x = np.arange(n_estimators) + 1\n",
    "\n",
    "def heldout_score(clf, X_test, y_test):\n",
    "    \"\"\"compute deviance scores on ``X_test`` and ``y_test``. \"\"\"\n",
    "    score = np.zeros((n_estimators,), dtype=np.float64)\n",
    "    for i, y_pred in enumerate(clf.staged_decision_function(X_test)):\n",
    "        score[i] = clf.loss_(y_test, y_pred)\n",
    "    return score\n",
    "\n",
    "\n",
    "def cv_estimate(n_folds=3):\n",
    "    cv = cross_validation.KFold(n=X_train.shape[0], n_folds=n_folds)\n",
    "    cv_clf = ensemble.GradientBoostingClassifier(**params)\n",
    "    val_scores = np.zeros((n_estimators,), dtype=np.float64)\n",
    "    for train, test in cv:\n",
    "        cv_clf.fit(X_train.iloc[train], y_train.iloc[train])\n",
    "        val_scores += heldout_score(cv_clf, X_train.iloc[test], y_train.iloc[test])\n",
    "    val_scores /= n_folds\n",
    "    return val_scores\n",
    "\n",
    "\n",
    "# Estimate best n_estimator using cross-validation\n",
    "cv_score = cv_estimate(3)\n",
    "\n",
    "# Compute best n_estimator for test data\n",
    "test_score = heldout_score(clf, X_test, y_test)\n",
    "\n",
    "# negative cumulative sum of oob improvements\n",
    "cumsum = -np.cumsum(clf.oob_improvement_)\n",
    "\n",
    "# min loss according to OOB\n",
    "oob_best_iter = x[np.argmin(cumsum)]\n",
    "\n",
    "# min loss according to test (normalize such that first loss is 0)\n",
    "test_score -= test_score[0]\n",
    "test_best_iter = x[np.argmin(test_score)]\n",
    "\n",
    "# min loss according to cv (normalize such that first loss is 0)\n",
    "cv_score -= cv_score[0]\n",
    "cv_best_iter = x[np.argmin(cv_score)]\n",
    "\n",
    "# color brew for the three curves\n",
    "oob_color = list(map(lambda x: x / 256.0, (190, 174, 212)))\n",
    "test_color = list(map(lambda x: x / 256.0, (127, 201, 127)))\n",
    "cv_color = list(map(lambda x: x / 256.0, (253, 192, 134)))\n",
    "\n",
    "# plot curves and vertical lines for best iterations\n",
    "plt.plot(x, cumsum, label='OOB loss', color=oob_color)\n",
    "plt.plot(x, test_score, label='Test loss', color=test_color)\n",
    "plt.plot(x, cv_score, label='CV loss', color=cv_color)\n",
    "plt.axvline(x=oob_best_iter, color=oob_color)\n",
    "plt.axvline(x=test_best_iter, color=test_color)\n",
    "plt.axvline(x=cv_best_iter, color=cv_color)\n",
    "\n",
    "# add three vertical lines to xticks\n",
    "xticks = plt.xticks()\n",
    "xticks_pos = np.array(xticks[0].tolist() +\n",
    "                      [oob_best_iter, cv_best_iter, test_best_iter])\n",
    "xticks_label = np.array(list(map(lambda t: int(t), xticks[0])) +\n",
    "                        ['OOB', 'CV', 'Test'])\n",
    "ind = np.argsort(xticks_pos)\n",
    "xticks_pos = xticks_pos[ind]\n",
    "xticks_label = xticks_label[ind]\n",
    "plt.xticks(xticks_pos, xticks_label)\n",
    "\n",
    "plt.legend(loc='upper right')\n",
    "plt.ylabel('normalized loss')\n",
    "plt.xlabel('number of iterations')\n",
    "\n",
    "plt.show()"
   ]
  },
  {
   "cell_type": "markdown",
   "metadata": {},
   "source": [
    "## 3 Feature importance evaluation"
   ]
  },
  {
   "cell_type": "markdown",
   "metadata": {},
   "source": [
    "Ensemble methods can provide a measure of importance for each feature in the dataset. This measure can be used to asses how much the feature is important in predicting the response and thus to select the most important features and reduce dimensionality. \n",
    "\n",
    "Random Forests have two ways to assign a measure of importance. In scikit-learn feature importance is provided by looking at each split in each tree. The importance of the splitting variable is proportional to the improvement to the gini index given by that split and it is accumulated (for each variable) over all the trees in the forest. The other method proposed in the original paper uses the OOB samples to construct the measure. In practice when a given tree is constructed the OOB samples are passed down the tree and the prediction accuracy is recorded. Then a variable is chosen and its values are permuted (in the OOB samples) and the accuracy is computed again. A decrease in accuracy obtained by this permutation is averaged over all tress for each variable and it provides the importance of that variable (the higher the decreas the higher the importance). This method has better statistical properties with respect to the first and it is used in other implementation such as package randomForest in R language.\n",
    "\n",
    "In the following example, we use sklearn with ExtraTreeClassifier to plot variable importance. Only the ten most important feature are plotted, but the measure is available for all features. "
   ]
  },
  {
   "cell_type": "code",
   "execution_count": 8,
   "metadata": {
    "collapsed": false
   },
   "outputs": [
    {
     "name": "stdout",
     "output_type": "stream",
     "text": [
      "Feature ranking:\n",
      "1. feature SSLfinal_State (0.302519)\n",
      "2. feature URL_of_Anchor (0.261373)\n",
      "3. feature web_traffic (0.066255)\n",
      "4. feature having_Sub_Domain (0.053109)\n",
      "5. feature Prefix_Suffix (0.048531)\n",
      "6. feature Links_in_tags (0.040893)\n",
      "7. feature Request_URL (0.025084)\n",
      "8. feature SFH (0.022484)\n",
      "9. feature Links_pointing_to_page (0.019009)\n",
      "10. feature age_of_domain (0.017089)\n"
     ]
    },
    {
     "data": {
      "image/png": "[encoded data removed]",
      "text/plain": [
       "<matplotlib.figure.Figure at 0x7f3029fae850>"
      ]
     },
     "metadata": {},
     "output_type": "display_data"
    }
   ],
   "source": [
    "forest = ensemble.ExtraTreesClassifier(n_estimators=100,\n",
    "                                       random_state=42)\n",
    "\n",
    "forest.fit(train, target)\n",
    "importances = forest.feature_importances_\n",
    "std = np.std([tree.feature_importances_ for tree in forest.estimators_],\n",
    "             axis=0)\n",
    "indices = np.argsort(importances)[::-1]\n",
    "\n",
    "# Print the feature ranking\n",
    "print(\"Feature ranking:\")\n",
    "\n",
    "for f in range(10):\n",
    "    print(\"%d. feature %s (%f)\" % (f + 1, \n",
    "                                   train.columns[indices[f]], \n",
    "                                   importances[indices[f]]))\n",
    "\n",
    "# Plot the feature importances of the forest\n",
    "plt.figure()\n",
    "plt.title(\"Feature importances\")\n",
    "plt.bar(range(10), importances[indices][:10],\n",
    "       color=\"r\", yerr=std[indices][:10], align=\"center\")\n",
    "plt.xticks(range(10), train.columns[indices], rotation=90)\n",
    "plt.xlim([-1, 10])\n",
    "plt.show()"
   ]
  },
  {
   "cell_type": "markdown",
   "metadata": {},
   "source": [
    "Here the height of the bar represents the absolute value of feature importance, while the error bar represent the standard deviation among all the tress for that variable. The plot suggests that two features, namely SSLfinal_State and URL_of_Anchor capture most of the variability in the data, but this estimation has high variance."
   ]
  },
  {
   "cell_type": "markdown",
   "metadata": {},
   "source": [
    "## 4 Partial dependence"
   ]
  },
  {
   "cell_type": "markdown",
   "metadata": {},
   "source": [
    "**Partial dependence plots (PDP)** show the dependence between the target response and a set of ‘target’ features, marginalizing over the values of all other features (the ‘complement’ features). Intuitively, we can interpret the partial dependence as the expected target response [1] as a function of the ‘target’ features [2].\n",
    "\n",
    "Due to the limits of human perception the size of the target feature set must be small (usually, one or two) thus the target features are usually chosen among the most important features.\n",
    "\n",
    "The Figure below shows four one-way and one two-way partial dependence plots for the California housing dataset: the target variables for the one-way PDP are: median income (MedInc), avg. occupants per household (AvgOccup), median house age (HouseAge), and avg. rooms per household (AveRooms).\n",
    "\n",
    "We can clearly see that the median house price shows a linear relationship with the median income (top left) and that the house price drops when the avg. occupants per household increases (top middle). The top right plot shows that the house age in a district does not have a strong influence on the (median) house price; so does the average rooms per household. The tick marks on the x-axis represent the deciles of the feature values in the training data.\n",
    "\n",
    "The two-way partial dependence plot shows the dependence of median house price on joint values of house age and avg. occupants per household. We can clearly see an interaction between the two features: For an avg. occupancy greater than two, the house price is nearly independent of the house age, whereas for values less than two there is a strong dependence on age.\n",
    "\n",
    "For classification you can think of it as the regression score before the link function:"
   ]
  },
  {
   "cell_type": "code",
   "execution_count": 9,
   "metadata": {
    "collapsed": false
   },
   "outputs": [],
   "source": [
    "from sklearn.cross_validation import train_test_split\n",
    "from sklearn.ensemble import GradientBoostingRegressor\n",
    "from sklearn.ensemble.partial_dependence import plot_partial_dependence\n",
    "from sklearn.ensemble.partial_dependence import partial_dependence\n",
    "from sklearn.datasets.california_housing import fetch_california_housing\n",
    "\n",
    "# fetch California housing dataset\n",
    "cal_housing = fetch_california_housing()"
   ]
  },
  {
   "cell_type": "code",
   "execution_count": 10,
   "metadata": {
    "collapsed": false
   },
   "outputs": [
    {
     "data": {
      "text/plain": [
       "GradientBoostingRegressor(alpha=0.9, init=None, learning_rate=0.1,\n",
       "             loss='huber', max_depth=4, max_features=None,\n",
       "             max_leaf_nodes=None, min_samples_leaf=1, min_samples_split=2,\n",
       "             min_weight_fraction_leaf=0.0, n_estimators=100,\n",
       "             random_state=1, subsample=1.0, verbose=0, warm_start=False)"
      ]
     },
     "execution_count": 10,
     "metadata": {},
     "output_type": "execute_result"
    }
   ],
   "source": [
    "X_train, X_test, y_train, y_test = train_test_split(cal_housing.data,\n",
    "                                                    cal_housing.target,\n",
    "                                                    test_size=0.2,\n",
    "                                                    random_state=1)\n",
    "names = cal_housing.feature_names\n",
    "clf = GradientBoostingRegressor(n_estimators=100, max_depth=4,\n",
    "                                learning_rate=0.1, loss='huber', random_state=1)\n",
    "clf.fit(X_train, y_train)"
   ]
  },
  {
   "cell_type": "code",
   "execution_count": 11,
   "metadata": {
    "collapsed": true
   },
   "outputs": [],
   "source": [
    "import warnings\n",
    "warnings.filterwarnings('ignore', category=UnicodeWarning)"
   ]
  },
  {
   "cell_type": "code",
   "execution_count": 12,
   "metadata": {
    "collapsed": false
   },
   "outputs": [
    {
     "data": {
      "image/png": "[encoded data removed]",
      "text/plain": [
       "<matplotlib.figure.Figure at 0x7f30296d1b50>"
      ]
     },
     "metadata": {},
     "output_type": "display_data"
    }
   ],
   "source": [
    "# sklearn uses Matplotlib for its plotting functions (like `plot_partial_dependence')\n",
    "%matplotlib inline\n",
    "import matplotlib.pyplot as plt \n",
    "\n",
    "features = [0, 1, 2, 3, 4, 5, (0,1), (2,3), (5, 1)]\n",
    "fig = plt.figure(figsize=(12,12))\n",
    "ax = fig.add_subplot(111)\n",
    "\n",
    "fig, axs = plot_partial_dependence(clf, X_train, features, feature_names=names,\n",
    "                                   n_jobs=-1, grid_resolution=100, ax=ax)\n",
    "fig.suptitle('Partial dependence of house value on nonlocation features\\n'\n",
    "             'for the California housing dataset')\n",
    "plt.subplots_adjust(top=0.9)  # tight_layout causes overlap with suptitle"
   ]
  },
  {
   "cell_type": "markdown",
   "metadata": {},
   "source": [
    "##5 R randomForest package\n",
    "In this section we provide a comparison example with `randomForest` package in **R** and its main differences with the scikit-learn implementation. R does not offer a complete container and a standard interface to Machine Learning algorithms like scikit-learn thus each algorithm has its own package and its own interface. As dispersive as it may seem it has the advantage that each algorithm can be tweaked beyond the standard implementation and can offer several additional tricks."
   ]
  },
  {
   "cell_type": "markdown",
   "metadata": {},
   "source": [
    "It is possible to use **R** directly from **Python** with the module [rpy2](http://rpy.sourceforge.net/), with results that can be passed back and forth between the two languages. It seems a fairly robust and well maintaned."
   ]
  },
  {
   "cell_type": "code",
   "execution_count": 13,
   "metadata": {
    "collapsed": false
   },
   "outputs": [],
   "source": [
    "%load_ext rpy2.ipython"
   ]
  },
  {
   "cell_type": "markdown",
   "metadata": {},
   "source": [
    "The command above load an extension for ipython with rpy2 and allows ipython notebook to interpret R syntax to be used whithin the notebook (using the magic `%R`)"
   ]
  },
  {
   "cell_type": "code",
   "execution_count": 14,
   "metadata": {
    "collapsed": false
   },
   "outputs": [
    {
     "name": "stderr",
     "output_type": "stream",
     "text": [
      "/usr/local/lib/python2.7/dist-packages/rpy2/robjects/functions.py:106: UserWarning: randomForest 4.6-10\n",
      "\n",
      "  res = super(Function, self).__call__(*new_args, **new_kwargs)\n",
      "/usr/local/lib/python2.7/dist-packages/rpy2/robjects/functions.py:106: UserWarning: Type rfNews() to see new features/changes/bug fixes.\n",
      "\n",
      "  res = super(Function, self).__call__(*new_args, **new_kwargs)\n"
     ]
    },
    {
     "data": {
      "text/plain": [
       "[1] \"Data loaded\"\n"
      ]
     },
     "metadata": {},
     "output_type": "display_data"
    }
   ],
   "source": [
    "%R library(randomForest)\n",
    "%R library(foreign)\n",
    "%R data <- read.arff(\"example_data/Training Dataset.arff\")\n",
    "%R print(\"Data loaded\")"
   ]
  },
  {
   "cell_type": "code",
   "execution_count": 15,
   "metadata": {
    "collapsed": false
   },
   "outputs": [
    {
     "data": {
      "text/plain": [
       "\n",
       "Call:\n",
       " randomForest(formula = Result ~ ., data = data, importance = T,      proximity = T) \n",
       "               Type of random forest: classification\n",
       "                     Number of trees: 500\n",
       "No. of variables tried at each split: 5\n",
       "\n",
       "        OOB estimate of  error rate: 3.08%\n",
       "Confusion matrix:\n",
       "      1   -1 class.error\n",
       "1  6022  135  0.02192626\n",
       "-1  206 4692  0.04205798\n"
      ]
     },
     "metadata": {},
     "output_type": "display_data"
    }
   ],
   "source": [
    "%R rfc <- randomForest(Result ~., data=data, importance=T, proximity=T)\n",
    "%R print(rfc)"
   ]
  },
  {
   "cell_type": "markdown",
   "metadata": {},
   "source": [
    "Calling the randomForest method returns an object that contains all the information about the results, such as formula, error rate, confusion matrix, importance, etc. Each piece of information can be retrieved either by printing a summary of the object or with a specific function (or accessing the corresponding variable in the data structure directly). For example it is possibile to retrieve information about variable importance with the command `importance`."
   ]
  },
  {
   "cell_type": "markdown",
   "metadata": {},
   "source": [
    "### 5.1 Variable importance"
   ]
  },
  {
   "cell_type": "markdown",
   "metadata": {},
   "source": [
    "The package randomForest in R has both methods for assessing variable importance, that is the one based on gini index (the same used in scikit-learn) and the one based on accuracy (shuffling of OOB variables) described in the original Breiman paper. The latter method is the one regarded as the most accurate in the literature (and for which it is possible to derive formal measure of accuracy)."
   ]
  },
  {
   "cell_type": "code",
   "execution_count": 16,
   "metadata": {
    "collapsed": false
   },
   "outputs": [
    {
     "data": {
      "text/plain": [
       "                            MeanDecreaseAccuracy\n",
       "having_IP_Address                       41.73267\n",
       "URL_Length                              34.90203\n",
       "Shortining_Service                      23.48328\n",
       "having_At_Symbol                        27.97575\n",
       "double_slash_redirecting                23.58827\n",
       "Prefix_Suffix                           45.11860\n",
       "having_Sub_Domain                       65.40677\n",
       "SSLfinal_State                          97.84896\n",
       "Domain_registeration_length             38.75495\n",
       "Favicon                                 23.38776\n",
       "port                                    17.67382\n",
       "HTTPS_token                             25.86103\n",
       "Request_URL                             40.11840\n",
       "URL_of_Anchor                           79.88171\n",
       "Links_in_tags                           79.09800\n",
       "SFH                                     47.21868\n",
       "Submitting_to_email                     31.36926\n",
       "Abnormal_URL                            24.72537\n",
       "Redirect                                27.41966\n",
       "on_mouseover                            24.47337\n",
       "RightClick                              15.32367\n",
       "popUpWidnow                             23.75246\n",
       "Iframe                                  21.16948\n",
       "age_of_domain                           41.25440\n",
       "DNSRecord                               39.96552\n",
       "web_traffic                             65.79004\n",
       "Page_Rank                               37.70526\n",
       "Google_Index                            47.00706\n",
       "Links_pointing_to_page                  52.03553\n",
       "Statistical_report                      26.98001\n"
      ]
     },
     "metadata": {},
     "output_type": "display_data"
    }
   ],
   "source": [
    "%R print(importance(rfc, type=1))"
   ]
  },
  {
   "cell_type": "code",
   "execution_count": 17,
   "metadata": {
    "collapsed": false
   },
   "outputs": [
    {
     "data": {
      "text/plain": [
       "                            MeanDecreaseGini\n",
       "having_IP_Address                  55.476534\n",
       "URL_Length                         38.132802\n",
       "Shortining_Service                 24.095104\n",
       "having_At_Symbol                   19.996588\n",
       "double_slash_redirecting           18.731758\n",
       "Prefix_Suffix                     232.629628\n",
       "having_Sub_Domain                 311.564495\n",
       "SSLfinal_State                   1656.280408\n",
       "Domain_registeration_length        68.750578\n",
       "Favicon                            19.469259\n",
       "port                               13.513463\n",
       "HTTPS_token                        25.179175\n",
       "Request_URL                        94.529559\n",
       "URL_of_Anchor                    1320.369079\n",
       "Links_in_tags                     193.056464\n",
       "SFH                                93.733621\n",
       "Submitting_to_email                23.047752\n",
       "Abnormal_URL                       19.878928\n",
       "Redirect                           21.727417\n",
       "on_mouseover                       16.593038\n",
       "RightClick                          7.017625\n",
       "popUpWidnow                        22.482890\n",
       "Iframe                             12.193222\n",
       "age_of_domain                      52.950537\n",
       "DNSRecord                          49.155100\n",
       "web_traffic                       388.802933\n",
       "Page_Rank                          43.483349\n",
       "Google_Index                       53.377329\n",
       "Links_pointing_to_page             80.864957\n",
       "Statistical_report                 20.139630\n"
      ]
     },
     "metadata": {},
     "output_type": "display_data"
    }
   ],
   "source": [
    "%R print(importance(rfc, type=2))"
   ]
  },
  {
   "cell_type": "markdown",
   "metadata": {},
   "source": [
    "As can be seen in the plot below, there is not much difference in this two type of importances, at least for this dataset. However, some of the least important features are mixed up."
   ]
  },
  {
   "cell_type": "code",
   "execution_count": 18,
   "metadata": {
    "collapsed": false
   },
   "outputs": [
    {
     "data": {
      "image/png": "[encoded data removed]"
     },
     "metadata": {},
     "output_type": "display_data"
    },
    {
     "data": {
      "text/plain": [
       "[1] \"MeanDecreaseAccuracy\"\n"
      ]
     },
     "metadata": {},
     "output_type": "display_data"
    }
   ],
   "source": [
    "#%R imp = importance(rfc, type = 1)\n",
    "#%R barplot(imp[order(-imp)[1:10],1], cex.names=0.6, las=2, col=\"red\", ylim=c(0,100))\n",
    "%R imp <- rfc$importance[,3] / rfc$importanceSD[,3]\n",
    "%R impOrd <- order(-imp)\n",
    "%R barplot(imp[impOrd[1:10]], cex.names=0.6, las=2, col=\"red\", ylim=c(0,100))\n",
    "%R print(\"MeanDecreaseAccuracy\")"
   ]
  },
  {
   "cell_type": "code",
   "execution_count": 19,
   "metadata": {
    "collapsed": false
   },
   "outputs": [
    {
     "data": {
      "image/png": "[encoded data removed]"
     },
     "metadata": {},
     "output_type": "display_data"
    },
    {
     "data": {
      "text/plain": [
       "[1] \"MeanDecreaseGini\"\n"
      ]
     },
     "metadata": {},
     "output_type": "display_data"
    }
   ],
   "source": [
    "%R barplot(rfc$importance[order(-rfc$importance[,4])[1:10],4], cex.names=0.6, las=2, col=\"red\", ylim=c(0, 2000))\n",
    "%R print(\"MeanDecreaseGini\")"
   ]
  },
  {
   "cell_type": "code",
   "execution_count": 20,
   "metadata": {
    "collapsed": false
   },
   "outputs": [
    {
     "data": {
      "image/png": "[encoded data removed]"
     },
     "metadata": {},
     "output_type": "display_data"
    },
    {
     "data": {
      "text/plain": [
       "[1] \"Average Importance plots\"\n"
      ]
     },
     "metadata": {},
     "output_type": "display_data"
    }
   ],
   "source": [
    "%R varImpPlot(rfc, main=\" Average Importance plots\")\n",
    "%R print(\"Average Importance plots\")"
   ]
  },
  {
   "cell_type": "markdown",
   "metadata": {},
   "source": [
    "In **R**, there are many ways (and many functions) for plotting each plot. `varImpPlot` is a function that automatically plots variable importance with axis exchanged for better reading (feature names are read more easily if horizontal)."
   ]
  },
  {
   "cell_type": "markdown",
   "metadata": {},
   "source": [
    "### 5.2 Feature selection\n",
    "\n",
    "With the package `varSelRF` it is possible to use Random Forests to automatically choose the best subset of variables among that in the dataset. It is an automatical procedure in which at each itearation the least important variables are discarded until the OOB score stop to decrease. "
   ]
  },
  {
   "cell_type": "code",
   "execution_count": 21,
   "metadata": {
    "collapsed": false
   },
   "outputs": [
    {
     "name": "stderr",
     "output_type": "stream",
     "text": [
      "/usr/local/lib/python2.7/dist-packages/rpy2/robjects/functions.py:106: UserWarning: Loading required package: parallel\n",
      "\n",
      "  res = super(Function, self).__call__(*new_args, **new_kwargs)\n"
     ]
    },
    {
     "data": {
      "text/plain": [
       "\n",
       "Backwards elimination on random forest; ntree =  200 ;  mtryFactor =  5 \n",
       "\n",
       " Selected variables:\n",
       " [1] \"age_of_domain\"               \"DNSRecord\"                  \n",
       " [3] \"Domain_registeration_length\" \"double_slash_redirecting\"   \n",
       " [5] \"Favicon\"                     \"Google_Index\"               \n",
       " [7] \"having_IP_Address\"           \"having_Sub_Domain\"          \n",
       " [9] \"HTTPS_token\"                 \"Links_in_tags\"              \n",
       "[11] \"Links_pointing_to_page\"      \"on_mouseover\"               \n",
       "[13] \"Page_Rank\"                   \"popUpWidnow\"                \n",
       "[15] \"Prefix_Suffix\"               \"Request_URL\"                \n",
       "[17] \"SFH\"                         \"Shortining_Service\"         \n",
       "[19] \"SSLfinal_State\"              \"Statistical_report\"         \n",
       "[21] \"Submitting_to_email\"         \"URL_Length\"                 \n",
       "[23] \"URL_of_Anchor\"               \"web_traffic\"                \n",
       "\n",
       " Number of selected variables: 24 \n",
       "\n"
      ]
     },
     "metadata": {},
     "output_type": "display_data"
    }
   ],
   "source": [
    "%R library(varSelRF)\n",
    "%R rf.vs1 = varSelRF(data[,-(ncol(data))], data[,ncol(data)], ntree = 200, ntreeIterat = 100, vars.drop.frac = 0.2, mtryFactor = 5)\n",
    "#command:\n",
    "#rf.vs1 = varSelRF(data[,-(ncol(data))], \n",
    "#                  data[,ncol(data)], \n",
    "#                  ntree = 200, \n",
    "#                  ntreeIterat = 100, \n",
    "#                  vars.drop.frac = 0.2, \n",
    "#                  mtryFactor = 5)\n",
    "%R print(rf.vs1)"
   ]
  },
  {
   "cell_type": "code",
   "execution_count": 22,
   "metadata": {
    "collapsed": false
   },
   "outputs": [
    {
     "data": {
      "image/png": "[encoded data removed]"
     },
     "metadata": {},
     "output_type": "display_data"
    },
    {
     "data": {
      "image/png": "[encoded data removed]"
     },
     "metadata": {},
     "output_type": "display_data"
    }
   ],
   "source": [
    "%R plot(rf.vs1)"
   ]
  },
  {
   "cell_type": "markdown",
   "metadata": {},
   "source": [
    "This picture shows the initial variable importances and the change in OOB error corresponding to the number of variables used. "
   ]
  },
  {
   "cell_type": "markdown",
   "metadata": {},
   "source": [
    "### 5.3 Proximity plot\n",
    "\n",
    "If the parameter proximity is set to True, during the process of growing a random forest, an $N \\times N$ proximity matrix is accumulated for the training data. For every tree, any pair of oob observations sharing a leaf has their proximity increased. The matrix is then scaled to be represented in two dimensions. Proximity plot gives an indication of which observation are effectively close as learned by the random forest classifier.\n",
    "\n",
    "Proximity plots for random forests often look very similar they tend to have a star shape,\n",
    "one arm per class, which is more pronounced the better the classification\n",
    "performance."
   ]
  },
  {
   "cell_type": "code",
   "execution_count": 23,
   "metadata": {
    "collapsed": false
   },
   "outputs": [
    {
     "name": "stderr",
     "output_type": "stream",
     "text": [
      "/usr/local/lib/python2.7/dist-packages/rpy2/robjects/functions.py:106: UserWarning: Loading required package: RColorBrewer\n",
      "\n",
      "  res = super(Function, self).__call__(*new_args, **new_kwargs)\n"
     ]
    },
    {
     "data": {
      "image/png": "[encoded data removed]"
     },
     "metadata": {},
     "output_type": "display_data"
    },
    {
     "data": {
      "text/plain": [
       "[1] \"Multi-dimensional Scaling Plot of Proximity matrix from randomForest\"\n"
      ]
     },
     "metadata": {},
     "output_type": "display_data"
    }
   ],
   "source": [
    "%R MDSplot(rfc, data[,ncol(data)])\n",
    "%R print(\"Multi-dimensional Scaling Plot of Proximity matrix from randomForest\")"
   ]
  },
  {
   "cell_type": "markdown",
   "metadata": {},
   "source": [
    "---\n",
    "\n",
    "Visit [www.add-for.com](<http://www.add-for.com/IT>) for more tutorials and updates.\n",
    "\n",
    "This work is licensed under a <a rel=\"license\" href=\"http://creativecommons.org/licenses/by-sa/4.0/\">Creative Commons Attribution-ShareAlike 4.0 International License</a>."
   ]
  }
 ],
 "metadata": {
  "kernelspec": {
   "display_name": "Python 2",
   "language": "python",
   "name": "python2"
  },
  "language_info": {
   "codemirror_mode": {
    "name": "ipython",
    "version": 2
   },
   "file_extension": ".py",
   "mimetype": "text/x-python",
   "name": "python",
   "nbconvert_exporter": "python",
   "pygments_lexer": "ipython2",
   "version": "2.7.10"
  }
 },
 "nbformat": 4,
 "nbformat_minor": 0
}
