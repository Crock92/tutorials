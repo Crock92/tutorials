{
 "cells": [
  {
   "cell_type": "markdown",
   "metadata": {},
   "source": [
    "# Pandas Time series"
   ]
  },
  {
   "cell_type": "code",
   "execution_count": 1,
   "metadata": {
    "collapsed": false
   },
   "outputs": [
    {
     "data": {
      "text/html": [
       "<div id='toc-container' ?><script type='text/javascript'>\n",
       "$(function() {\n",
       "    function regenTOC(){\n",
       "        if (typeof element === 'undefined') {\n",
       "                element = $(\"#toc-container\");\n",
       "        } else {\n",
       "                var container = document.createElement(\"div\");\n",
       "                $(container).attr('id', 'toc-container');\n",
       "                $(element).empty().append(element);\n",
       "                element = container;\n",
       "        }\n",
       "\n",
       "\tvar toc = document.createElement(\"div\");\n",
       "\t$(toc).attr(\"class\", \"table-of-contents\");\n",
       "\n",
       "\tvar curLevel = 0;\n",
       "\tvar containerStack = [toc];\n",
       "\tvar levelOfTag = {\"h2\": 1, \"h3\": 2, \"h4\": 3, \"h5\": 4};\n",
       "\n",
       "\tfunction pushLevel() {\n",
       "            var list = document.createElement(\"ul\");\n",
       "            containerStack.push(list);\n",
       "            curLevel++;\n",
       "\t}\n",
       "\t\n",
       "\tfunction popLevel() {\n",
       "            var lastContainer = containerStack.pop();\n",
       "            $(lastContainer).appendTo(containerStack[containerStack.length - 1]);\n",
       "            curLevel--;\n",
       "\t}\n",
       "\t\n",
       "\t$(\".text_cell_render :header\").each(function (i, elem) {\n",
       "            var level = levelOfTag[ elem.tagName.toLowerCase() ];\n",
       "\n",
       "            if (level === undefined)\n",
       "\t\treturn;\n",
       "\n",
       "            while (curLevel < level)\n",
       "\t\tpushLevel();\n",
       "            while (curLevel > level)\n",
       "\t\tpopLevel();\n",
       "            \n",
       "            var listItem = document.createElement(\"li\");\n",
       "            var link = document.createElement(\"a\");\n",
       "            $(link)\n",
       "\t\t.text($(elem).contents().first().text()) // Remove the pilcrow sign\n",
       "\t\t.attr(\"href\", \"#\" + $(elem).attr(\"id\"))\n",
       "\t\t.appendTo(listItem);\n",
       "            $(listItem).appendTo(containerStack[containerStack.length - 1]);\n",
       "\t});\n",
       "\t\n",
       "\twhile (curLevel > 0)\n",
       "            popLevel();\n",
       "\n",
       "        $(\"<a class='btn-update' href='#'>Update</a>\")\n",
       "          .click(regenTOC).prependTo(toc);\n",
       "\n",
       "\t$(toc).prepend(\"<div class='title'>Contents</div>\")\n",
       "          .wrap(\"<div class='toc-headings'/>\");\n",
       "\n",
       "        $(element).empty();\n",
       "        $(element).append(toc);\n",
       "    }\n",
       "\n",
       "    if (typeof IPython !== 'undefined')\n",
       "        $([IPython.events]).on('notebook_loaded.Notebook', regenTOC);\n",
       "    regenTOC();\n",
       "});\n",
       "\n",
       "</script>"
      ],
      "text/plain": [
       "<IPython.core.display.HTML object>"
      ]
     },
     "execution_count": 1,
     "metadata": {},
     "output_type": "execute_result"
    }
   ],
   "source": [
    "import addutils.toc ; addutils.toc.js(ipy_notebook=True)"
   ]
  },
  {
   "cell_type": "markdown",
   "metadata": {},
   "source": [
    "For further documentation see [Time Series / Date functionality](http://pandas.pydata.org/pandas-docs/stable/timeseries.html) on the [pandas](http://pandas.pydata.org/) documentation."
   ]
  },
  {
   "cell_type": "code",
   "execution_count": 2,
   "metadata": {
    "collapsed": false
   },
   "outputs": [
    {
     "data": {
      "text/html": [
       "<style>\n",
       ".text_cell_render @font-face {\n",
       "    font-family: \"Computer Modern\";\n",
       "    src: url('http://mirrors.ctan.org/fonts/cm-unicode/fonts/otf/cmunss.otf');\n",
       "}\n",
       "\n",
       "div.cell {\n",
       "    width: 900px;\n",
       "    margin-left: 0% !important;\n",
       "    margin-right: 0%;\n",
       "}\n",
       "\n",
       "code {\n",
       "    font-size:10pt;\n",
       "}\n",
       "\n",
       ".text_cell_render  h1 {\n",
       "    font-family: Tahoma, sans-serif;\n",
       "    color: rgb( 10, 88, 126 );\n",
       "    font-size:28pt;\n",
       "}\n",
       ".text_cell_render h2 {\n",
       "    font-family: Tahoma, sans-serif;\n",
       "    color: rgb( 10, 88, 126 );\n",
       "    font-size:24pt;\n",
       "}\n",
       ".text_cell_render h3 {\n",
       "    font-family: Tahoma, sans-serif;\n",
       "    color: rgb( 10, 88, 126 );\n",
       "    font-size:20pt;\n",
       "}\n",
       ".text_cell_render h4 {\n",
       "    font-family: Tahoma, sans-serif;\n",
       "    color: rgb( 10, 88, 126 );\n",
       "    font-size:18pt;\n",
       "    margin-top:12px;\n",
       "    margin-bottom: 3px;\n",
       "}\n",
       "\n",
       ".text_cell_render h5 {\n",
       "    font-weight: 300;\n",
       "    font-size: 11pt;\n",
       "    color: rgb( 48, 48, 48 );\n",
       "    font-style: italic;\n",
       "    margin-bottom: .5em;\n",
       "    margin-top: 0.5em;\n",
       "    display: block;\n",
       "}\n",
       "\n",
       ".text_cell_render ul {\n",
       "    font-family: Tahoma, sans-serif;\n",
       "    color: rgb( 90, 90, 90 );\n",
       "    font-size:11pt;\n",
       "    line-height: 185%;\n",
       "}\n",
       "\n",
       ".text_cell_render yp {\n",
       "    font-family: Tahoma, sans-serif;\n",
       "    color: rgb( 90, 90, 90 );\n",
       "    font-size:11pt;\n",
       "}\n",
       "\n",
       ".text_cell_render strong {\n",
       "    font-family: Tahoma, sans-serif;\n",
       "    color: rgb( 30, 30, 30 );\n",
       "    font-size:11pt;\n",
       "}\n",
       "\n",
       ".text_cell_render a:link {\n",
       "    font-family: Tahoma, sans-serif;\n",
       "    color: rgb( 10, 88, 126 );\n",
       "    font-size:11pt;\n",
       "}\n",
       "\n",
       ".text_cell_render a:visited {\n",
       "    color:rgb( 10, 88, 126 );\n",
       "}\n",
       "\n",
       ".text_cell_render {\n",
       "    font-family: Helvetica, Courier, Computer Modern, \"Helvetica Neue\", Arial, Geneva, sans-serif;\n",
       "    color: rgb( 84, 84, 84 );\n",
       "    font-size:11pt;\n",
       "    line-height: 125%;\n",
       "    font-size: 100%;\n",
       "    width:800px;\n",
       "}\n",
       "\n",
       ".CodeMirror {\n",
       "    font-family: Courier, \"Source Code Pro\", source-code-pro,Consolas, monospace;\n",
       "}\n",
       "\n",
       ".warning {\n",
       "    color: rgb( 240, 20, 20 );\n",
       "}\n",
       "\n",
       "/* Pandas tables */\n",
       "/*\n",
       ".rendered_html td {\n",
       "    text-align: right;\n",
       "}\n",
       "*/\n",
       "\n",
       "table.dataframe td {\n",
       "    text-align: right;\n",
       "}\n",
       "\n",
       ".output .table-of-contents {\n",
       "    border: 1px #cecece solid;\n",
       "    background-color: #fafafa;\n",
       "    padding-top: 10px;\n",
       "    padding-bottom: 5px;\n",
       "    padding-right: 15px;\n",
       "    padding-left: 0px;\n",
       "    margin-bottom: 20px;\n",
       "    display: inline-block;\n",
       "    position: relative;\n",
       "}\n",
       "\n",
       ".output .table-of-contents ul {\n",
       "    list-style-type: none;\n",
       "    padding-left: 20px;\n",
       "}\n",
       "\n",
       ".output .table-of-contents .title {\n",
       "    font-weight: bold;\n",
       "    font-height: 11pt;\n",
       "    padding-left: 20px; /* looks better if it's the same to the <ul> */\n",
       "}\n",
       "\n",
       ".output .table-of-contents .btn-update {\n",
       "    position: absolute;\n",
       "    float: right;\n",
       "    right: 11px;\n",
       "    top: 4px;\n",
       "    font-size: 9pt;\n",
       "}\n",
       "\n",
       "</style>\n",
       "<script>\n",
       "    MathJax.Hub.Config({\n",
       "                        TeX: {\n",
       "                           extensions: [\"AMSmath.js\"]\n",
       "                           },\n",
       "                displayAlign: 'center', // Change this to 'center' to center equations.\n",
       "                \"HTML-CSS\": {\n",
       "                    styles: {'.MathJax_Display': {\"margin\": 4}}\n",
       "                }\n",
       "        });\n",
       "</script>\n"
      ],
      "text/plain": [
       "<IPython.core.display.HTML object>"
      ]
     },
     "execution_count": 2,
     "metadata": {},
     "output_type": "execute_result"
    }
   ],
   "source": [
    "import numpy as np\n",
    "import pandas as pd\n",
    "from numpy import NaN\n",
    "from IPython.display import (display, HTML)\n",
    "from pandas.tseries.offsets import *\n",
    "from addutils import side_by_side2\n",
    "from addutils import css_notebook\n",
    "css_notebook()"
   ]
  },
  {
   "cell_type": "markdown",
   "metadata": {},
   "source": [
    "## 1 Timestamps and DatetimeIndex"
   ]
  },
  {
   "cell_type": "markdown",
   "metadata": {},
   "source": [
    "`to_datetime` convertsa list of date-like objects to Time Stamps. If the list is homegeneous `infer_datetime_format=True` can give a great speed-up. Otherwise with `format` is possible to define the format of the strings a-priori."
   ]
  },
  {
   "cell_type": "code",
   "execution_count": 3,
   "metadata": {
    "collapsed": false
   },
   "outputs": [
    {
     "data": {
      "text/plain": [
       "array(['10-11-2000+02:00', '3-5-2014 11:57:18.7754+01:00'], dtype=object)"
      ]
     },
     "execution_count": 3,
     "metadata": {},
     "output_type": "execute_result"
    }
   ],
   "source": [
    "pd.to_datetime(['10-11-2000+02:00', '3-5-2014 11:57:18.7754+01:00'], dayfirst=True, utc=True)"
   ]
  },
  {
   "cell_type": "markdown",
   "metadata": {},
   "source": [
    "It’s also possible to convert integer or float epoch times. The float value is interpreted as a Unix timestamp and the default unit of measure is nanoseconds bu a different unit (D,s,ms,us,ns) can be specified:"
   ]
  },
  {
   "cell_type": "code",
   "execution_count": 4,
   "metadata": {
    "collapsed": false
   },
   "outputs": [
    {
     "name": "stdout",
     "output_type": "stream",
     "text": [
      "<class 'pandas.tseries.index.DatetimeIndex'>\n",
      "[1970-01-01]\n",
      "Length: 1, Freq: None, Timezone: None\n",
      "<class 'pandas.tseries.index.DatetimeIndex'>\n",
      "[1970-01-01 00:00:00.000000001]\n",
      "Length: 1, Freq: None, Timezone: None\n",
      "<class 'pandas.tseries.index.DatetimeIndex'>\n",
      "[1970-01-02]\n",
      "Length: 1, Freq: None, Timezone: None\n"
     ]
    }
   ],
   "source": [
    "print pd.to_datetime([0])\n",
    "print pd.to_datetime([1])\n",
    "print pd.to_datetime([1], unit='D')"
   ]
  },
  {
   "cell_type": "markdown",
   "metadata": {},
   "source": [
    "Index of Timestamps: use `date_range` and `bdate_range` to create regular frequency timestamp indexes. These functions return **`DatetimeIndex`** objects that are **array of Timestamps**:"
   ]
  },
  {
   "cell_type": "code",
   "execution_count": 5,
   "metadata": {
    "collapsed": false
   },
   "outputs": [
    {
     "name": "stdout",
     "output_type": "stream",
     "text": [
      "2012-01-01 15:53:25.335000+01:00\n",
      "2012-01-03 19:29:07.450000+01:00\n",
      "2012-01-05 23:04:49.565000+01:00\n",
      "2012-01-08 02:40:31.680000+01:00\n",
      "2012-01-10 06:16:13.795000+01:00\n",
      "2012-01-12 09:51:55.910000+01:00\n"
     ]
    }
   ],
   "source": [
    "rng = pd.date_range('1/1/2012 15:53:25.335',\n",
    "                    periods=6,\n",
    "                    freq='2d3h35min42s115ms',\n",
    "                    tz='Europe/Rome')\n",
    "for date in rng:\n",
    "    print date"
   ]
  },
  {
   "cell_type": "code",
   "execution_count": 6,
   "metadata": {
    "collapsed": false
   },
   "outputs": [
    {
     "data": {
      "text/plain": [
       "Timestamp('2012-01-01 15:53:25.335000+0100', tz='Europe/Rome', offset='185742115L')"
      ]
     },
     "execution_count": 6,
     "metadata": {},
     "output_type": "execute_result"
    }
   ],
   "source": [
    "rng[0]"
   ]
  },
  {
   "cell_type": "markdown",
   "metadata": {},
   "source": [
    "This can be used as an index for Series, Dataframes and Panels:"
   ]
  },
  {
   "cell_type": "code",
   "execution_count": 7,
   "metadata": {
    "collapsed": false
   },
   "outputs": [
    {
     "data": {
      "text/html": [
       "<div style=\"max-height:1000px;max-width:1500px;overflow:auto;\">\n",
       "<table border=\"1\" class=\"dataframe\">\n",
       "  <thead>\n",
       "    <tr style=\"text-align: right;\">\n",
       "      <th></th>\n",
       "      <th>A</th>\n",
       "      <th>B</th>\n",
       "      <th>C</th>\n",
       "    </tr>\n",
       "  </thead>\n",
       "  <tbody>\n",
       "    <tr>\n",
       "      <th>2012-01-01 15:53:25.335000+01:00</th>\n",
       "      <td> 29</td>\n",
       "      <td>  1</td>\n",
       "      <td> 59</td>\n",
       "    </tr>\n",
       "    <tr>\n",
       "      <th>2012-01-03 19:29:07.450000+01:00</th>\n",
       "      <td>  5</td>\n",
       "      <td> 85</td>\n",
       "      <td> 90</td>\n",
       "    </tr>\n",
       "    <tr>\n",
       "      <th>2012-01-05 23:04:49.565000+01:00</th>\n",
       "      <td> 74</td>\n",
       "      <td> 88</td>\n",
       "      <td> 70</td>\n",
       "    </tr>\n",
       "    <tr>\n",
       "      <th>2012-01-08 02:40:31.680000+01:00</th>\n",
       "      <td> 48</td>\n",
       "      <td> 45</td>\n",
       "      <td> 26</td>\n",
       "    </tr>\n",
       "    <tr>\n",
       "      <th>2012-01-10 06:16:13.795000+01:00</th>\n",
       "      <td> 72</td>\n",
       "      <td> 94</td>\n",
       "      <td> 89</td>\n",
       "    </tr>\n",
       "    <tr>\n",
       "      <th>2012-01-12 09:51:55.910000+01:00</th>\n",
       "      <td> 32</td>\n",
       "      <td>  0</td>\n",
       "      <td> 50</td>\n",
       "    </tr>\n",
       "  </tbody>\n",
       "</table>\n",
       "</div>"
      ],
      "text/plain": [
       "                                   A   B   C\n",
       "2012-01-01 15:53:25.335000+01:00  29   1  59\n",
       "2012-01-03 19:29:07.450000+01:00   5  85  90\n",
       "2012-01-05 23:04:49.565000+01:00  74  88  70\n",
       "2012-01-08 02:40:31.680000+01:00  48  45  26\n",
       "2012-01-10 06:16:13.795000+01:00  72  94  89\n",
       "2012-01-12 09:51:55.910000+01:00  32   0  50"
      ]
     },
     "metadata": {},
     "output_type": "display_data"
    }
   ],
   "source": [
    "data = np.random.randint(0,99,(len(rng),3))\n",
    "d1 = pd.DataFrame(data, index=rng, columns=list('ABC'))\n",
    "display(d1)"
   ]
  },
  {
   "cell_type": "markdown",
   "metadata": {},
   "source": [
    "Pandas provides a timezone conversion. Here we produce new data by converting the previous timeseries form the Rome timezone to the Eastern US timezone. When data with different timezones are combined toghether (as in `d3 = d1+d2`) the results are given in **UTC** time which can be in turn converted in any timezone. In this example the UTC timezone is shown with the notation **`+00:00`**"
   ]
  },
  {
   "cell_type": "code",
   "execution_count": 8,
   "metadata": {
    "collapsed": false
   },
   "outputs": [
    {
     "data": {
      "text/html": [
       "<div style=\"float:left;padding-right: 0.6em;max-height:1000px;max-width:1500px;overflow:auto;\">\n",
       "<table border=\"1\" class=\"dataframe\">\n",
       "  <thead>\n",
       "    <tr style=\"text-align: right;\">\n",
       "      <th></th>\n",
       "      <th>A</th>\n",
       "      <th>B</th>\n",
       "      <th>C</th>\n",
       "    </tr>\n",
       "  </thead>\n",
       "  <tbody>\n",
       "    <tr>\n",
       "      <th>2012-01-01 15:53:25.335000+01:00</th>\n",
       "      <td> 29</td>\n",
       "      <td>  1</td>\n",
       "      <td> 59</td>\n",
       "    </tr>\n",
       "    <tr>\n",
       "      <th>2012-01-03 19:29:07.450000+01:00</th>\n",
       "      <td>  5</td>\n",
       "      <td> 85</td>\n",
       "      <td> 90</td>\n",
       "    </tr>\n",
       "    <tr>\n",
       "      <th>2012-01-05 23:04:49.565000+01:00</th>\n",
       "      <td> 74</td>\n",
       "      <td> 88</td>\n",
       "      <td> 70</td>\n",
       "    </tr>\n",
       "    <tr>\n",
       "      <th>2012-01-08 02:40:31.680000+01:00</th>\n",
       "      <td> 48</td>\n",
       "      <td> 45</td>\n",
       "      <td> 26</td>\n",
       "    </tr>\n",
       "    <tr>\n",
       "      <th>2012-01-10 06:16:13.795000+01:00</th>\n",
       "      <td> 72</td>\n",
       "      <td> 94</td>\n",
       "      <td> 89</td>\n",
       "    </tr>\n",
       "    <tr>\n",
       "      <th>2012-01-12 09:51:55.910000+01:00</th>\n",
       "      <td> 32</td>\n",
       "      <td>  0</td>\n",
       "      <td> 50</td>\n",
       "    </tr>\n",
       "  </tbody>\n",
       "</table>\n",
       "</div><div style=\"float:left;padding-right: 0.6em;max-height:1000px;max-width:1500px;overflow:auto;\">\n",
       "<table border=\"1\" class=\"dataframe\">\n",
       "  <thead>\n",
       "    <tr style=\"text-align: right;\">\n",
       "      <th></th>\n",
       "      <th>A</th>\n",
       "      <th>B</th>\n",
       "      <th>C</th>\n",
       "    </tr>\n",
       "  </thead>\n",
       "  <tbody>\n",
       "    <tr>\n",
       "      <th>2012-01-01 09:53:25.335000-05:00</th>\n",
       "      <td> 29</td>\n",
       "      <td>  1</td>\n",
       "      <td> 59</td>\n",
       "    </tr>\n",
       "    <tr>\n",
       "      <th>2012-01-03 13:29:07.450000-05:00</th>\n",
       "      <td>  5</td>\n",
       "      <td> 85</td>\n",
       "      <td> 90</td>\n",
       "    </tr>\n",
       "    <tr>\n",
       "      <th>2012-01-05 17:04:49.565000-05:00</th>\n",
       "      <td> 74</td>\n",
       "      <td> 88</td>\n",
       "      <td> 70</td>\n",
       "    </tr>\n",
       "    <tr>\n",
       "      <th>2012-01-07 20:40:31.680000-05:00</th>\n",
       "      <td> 48</td>\n",
       "      <td> 45</td>\n",
       "      <td> 26</td>\n",
       "    </tr>\n",
       "    <tr>\n",
       "      <th>2012-01-10 00:16:13.795000-05:00</th>\n",
       "      <td> 72</td>\n",
       "      <td> 94</td>\n",
       "      <td> 89</td>\n",
       "    </tr>\n",
       "    <tr>\n",
       "      <th>2012-01-12 03:51:55.910000-05:00</th>\n",
       "      <td> 32</td>\n",
       "      <td>  0</td>\n",
       "      <td> 50</td>\n",
       "    </tr>\n",
       "  </tbody>\n",
       "</table>\n",
       "</div>"
      ],
      "text/plain": [
       "<IPython.core.display.HTML object>"
      ]
     },
     "execution_count": 8,
     "metadata": {},
     "output_type": "execute_result"
    }
   ],
   "source": [
    "d2 = d1.tz_convert('US/Eastern')\n",
    "HTML(side_by_side2(d1, d2))"
   ]
  },
  {
   "cell_type": "code",
   "execution_count": 9,
   "metadata": {
    "collapsed": false
   },
   "outputs": [
    {
     "data": {
      "text/html": [
       "<div style=\"max-height:1000px;max-width:1500px;overflow:auto;\">\n",
       "<table border=\"1\" class=\"dataframe\">\n",
       "  <thead>\n",
       "    <tr style=\"text-align: right;\">\n",
       "      <th></th>\n",
       "      <th>A</th>\n",
       "      <th>B</th>\n",
       "      <th>C</th>\n",
       "    </tr>\n",
       "  </thead>\n",
       "  <tbody>\n",
       "    <tr>\n",
       "      <th>2012-01-01 14:53:25.335000+00:00</th>\n",
       "      <td>  58</td>\n",
       "      <td>   2</td>\n",
       "      <td> 118</td>\n",
       "    </tr>\n",
       "    <tr>\n",
       "      <th>2012-01-03 18:29:07.450000+00:00</th>\n",
       "      <td>  10</td>\n",
       "      <td> 170</td>\n",
       "      <td> 180</td>\n",
       "    </tr>\n",
       "    <tr>\n",
       "      <th>2012-01-05 22:04:49.565000+00:00</th>\n",
       "      <td> 148</td>\n",
       "      <td> 176</td>\n",
       "      <td> 140</td>\n",
       "    </tr>\n",
       "    <tr>\n",
       "      <th>2012-01-08 01:40:31.680000+00:00</th>\n",
       "      <td>  96</td>\n",
       "      <td>  90</td>\n",
       "      <td>  52</td>\n",
       "    </tr>\n",
       "    <tr>\n",
       "      <th>2012-01-10 05:16:13.795000+00:00</th>\n",
       "      <td> 144</td>\n",
       "      <td> 188</td>\n",
       "      <td> 178</td>\n",
       "    </tr>\n",
       "    <tr>\n",
       "      <th>2012-01-12 08:51:55.910000+00:00</th>\n",
       "      <td>  64</td>\n",
       "      <td>   0</td>\n",
       "      <td> 100</td>\n",
       "    </tr>\n",
       "  </tbody>\n",
       "</table>\n",
       "</div>"
      ],
      "text/plain": [
       "                                    A    B    C\n",
       "2012-01-01 14:53:25.335000+00:00   58    2  118\n",
       "2012-01-03 18:29:07.450000+00:00   10  170  180\n",
       "2012-01-05 22:04:49.565000+00:00  148  176  140\n",
       "2012-01-08 01:40:31.680000+00:00   96   90   52\n",
       "2012-01-10 05:16:13.795000+00:00  144  188  178\n",
       "2012-01-12 08:51:55.910000+00:00   64    0  100"
      ]
     },
     "execution_count": 9,
     "metadata": {},
     "output_type": "execute_result"
    }
   ],
   "source": [
    "d3 = d1+d2\n",
    "d3"
   ]
  },
  {
   "cell_type": "markdown",
   "metadata": {},
   "source": [
    "## 2 DateOffsets objects"
   ]
  },
  {
   "cell_type": "markdown",
   "metadata": {},
   "source": [
    "In the previous example we used a time frequency string (with Offset Aliases) `freq='2d3h35min42s115ms` with `date_range` to create a `DatetimeIndex`. These frequency strings are being translated into an instance of pandas `DateOffset`, which represents a regular frequency increment. Specific offset logic like “month”, “business day”, or “one hour” is represented in its various subclasses.\n",
    "\n",
    "The key features of a `DateOffset` object are:\n",
    "* it can be used to shift a datetime object\n",
    "* it can be multiplied by an integer\n",
    "* it has rollforward and rollback methods for moving a date forward or backward"
   ]
  },
  {
   "cell_type": "code",
   "execution_count": 10,
   "metadata": {
    "collapsed": false
   },
   "outputs": [],
   "source": [
    "from pandas.tseries.offsets import *"
   ]
  },
  {
   "cell_type": "code",
   "execution_count": 11,
   "metadata": {
    "collapsed": false
   },
   "outputs": [
    {
     "name": "stdout",
     "output_type": "stream",
     "text": [
      "2014-01-08 13:15:00.350000\n",
      "2014-01-31 00:00:00\n",
      "2014-02-01 00:00:00\n",
      "2014-06-02 00:00:00\n"
     ]
    }
   ],
   "source": [
    "print pd.datetime(2014, 1, 1) + Week() + Hour(13) + Minute()*15 + Milli()*350\n",
    "print pd.datetime(2014, 1, 1) + MonthEnd()\n",
    "print pd.datetime(2014, 1, 1) + MonthBegin()\n",
    "print pd.datetime(2014, 1, 1) + BQuarterBegin(2)"
   ]
  },
  {
   "cell_type": "markdown",
   "metadata": {},
   "source": [
    "Offset Aliases can be used to define to define time series frequencies:\n",
    "* B - Business Day\n",
    "* D - Calendar Day\n",
    "* H - Hour\n",
    "* T - Minute\n",
    "* (see the Pandas documentation for a complete list)"
   ]
  },
  {
   "cell_type": "code",
   "execution_count": 12,
   "metadata": {
    "collapsed": false
   },
   "outputs": [
    {
     "name": "stdout",
     "output_type": "stream",
     "text": [
      "<class 'pandas.tseries.index.DatetimeIndex'>\n",
      "[2014-01-01 00:00:00, 2014-01-01 00:04:00]\n",
      "Length: 2, Freq: 4T, Timezone: None\n",
      "<class 'pandas.tseries.index.DatetimeIndex'>\n",
      "[2014-01-01 00:00:00, 2014-01-01 00:04:00]\n",
      "Length: 2, Freq: 4T, Timezone: None\n",
      "<class 'pandas.tseries.index.DatetimeIndex'>\n",
      "[2014-01-01 00:00:00, 2014-01-01 00:04:00]\n",
      "Length: 2, Freq: 4T, Timezone: None\n"
     ]
    }
   ],
   "source": [
    "print pd.date_range('2014/1/1', periods=2, freq=Minute(4))\n",
    "print pd.date_range('2014/1/1', periods=2, freq='4T')\n",
    "print pd.date_range('2014/1/1', periods=2, freq='4min')"
   ]
  },
  {
   "cell_type": "code",
   "execution_count": 13,
   "metadata": {
    "collapsed": false
   },
   "outputs": [
    {
     "name": "stdout",
     "output_type": "stream",
     "text": [
      "2014-01-01 12:30:00\n",
      "2014-01-02 13:40:00\n",
      "2014-01-03 14:50:00\n",
      "2014-01-06 16:00:00\n",
      "2014-01-07 17:10:00\n",
      "2014-01-08 18:20:00\n",
      "2014-01-09 19:30:00\n"
     ]
    }
   ],
   "source": [
    "start = pd.datetime(2014, 1, 1, 12, 30)\n",
    "end = pd.datetime(2014, 1, 12)\n",
    "idx2 = pd.date_range(start, end, freq='1B1H10T')\n",
    "for i in idx2:\n",
    "    print i"
   ]
  },
  {
   "cell_type": "markdown",
   "metadata": {},
   "source": [
    "## 3 Indexing with a DateTime index"
   ]
  },
  {
   "cell_type": "markdown",
   "metadata": {},
   "source": [
    "As the name can suggest Datetime Index objects can be used to index a DataFrames. Try uncommenting some of the following lines to see alternative ways for selecting dates:"
   ]
  },
  {
   "cell_type": "code",
   "execution_count": 14,
   "metadata": {
    "collapsed": false
   },
   "outputs": [
    {
     "data": {
      "text/html": [
       "<div style=\"max-height:1000px;max-width:1500px;overflow:auto;\">\n",
       "<table border=\"1\" class=\"dataframe\">\n",
       "  <thead>\n",
       "    <tr style=\"text-align: right;\">\n",
       "      <th></th>\n",
       "      <th>A</th>\n",
       "      <th>B</th>\n",
       "      <th>C</th>\n",
       "    </tr>\n",
       "  </thead>\n",
       "  <tbody>\n",
       "    <tr>\n",
       "      <th>2014-01-01 12:30:00</th>\n",
       "      <td> 77</td>\n",
       "      <td> 75</td>\n",
       "      <td>  5</td>\n",
       "    </tr>\n",
       "    <tr>\n",
       "      <th>2014-01-02 13:40:00</th>\n",
       "      <td> 40</td>\n",
       "      <td> 41</td>\n",
       "      <td> 22</td>\n",
       "    </tr>\n",
       "    <tr>\n",
       "      <th>2014-01-03 14:50:00</th>\n",
       "      <td> 27</td>\n",
       "      <td> 95</td>\n",
       "      <td> 82</td>\n",
       "    </tr>\n",
       "    <tr>\n",
       "      <th>2014-01-06 16:00:00</th>\n",
       "      <td> 15</td>\n",
       "      <td> 80</td>\n",
       "      <td> 72</td>\n",
       "    </tr>\n",
       "    <tr>\n",
       "      <th>2014-01-07 17:10:00</th>\n",
       "      <td> 47</td>\n",
       "      <td> 21</td>\n",
       "      <td> 10</td>\n",
       "    </tr>\n",
       "    <tr>\n",
       "      <th>2014-01-08 18:20:00</th>\n",
       "      <td> 60</td>\n",
       "      <td> 59</td>\n",
       "      <td> 10</td>\n",
       "    </tr>\n",
       "    <tr>\n",
       "      <th>2014-01-09 19:30:00</th>\n",
       "      <td> 18</td>\n",
       "      <td> 47</td>\n",
       "      <td> 58</td>\n",
       "    </tr>\n",
       "  </tbody>\n",
       "</table>\n",
       "</div>"
      ],
      "text/plain": [
       "                      A   B   C\n",
       "2014-01-01 12:30:00  77  75   5\n",
       "2014-01-02 13:40:00  40  41  22\n",
       "2014-01-03 14:50:00  27  95  82\n",
       "2014-01-06 16:00:00  15  80  72\n",
       "2014-01-07 17:10:00  47  21  10\n",
       "2014-01-08 18:20:00  60  59  10\n",
       "2014-01-09 19:30:00  18  47  58"
      ]
     },
     "execution_count": 14,
     "metadata": {},
     "output_type": "execute_result"
    }
   ],
   "source": [
    "data = np.random.randint(0,99,(len(idx2),3))\n",
    "d2 = pd.DataFrame(data, index=idx2, columns=list('ABC'))\n",
    "d2"
   ]
  },
  {
   "cell_type": "code",
   "execution_count": 15,
   "metadata": {
    "collapsed": false
   },
   "outputs": [
    {
     "data": {
      "text/html": [
       "<div style=\"max-height:1000px;max-width:1500px;overflow:auto;\">\n",
       "<table border=\"1\" class=\"dataframe\">\n",
       "  <thead>\n",
       "    <tr style=\"text-align: right;\">\n",
       "      <th></th>\n",
       "      <th>A</th>\n",
       "      <th>C</th>\n",
       "    </tr>\n",
       "  </thead>\n",
       "  <tbody>\n",
       "    <tr>\n",
       "      <th>2014-01-02 13:40:00</th>\n",
       "      <td> 40</td>\n",
       "      <td> 22</td>\n",
       "    </tr>\n",
       "    <tr>\n",
       "      <th>2014-01-03 14:50:00</th>\n",
       "      <td> 27</td>\n",
       "      <td> 82</td>\n",
       "    </tr>\n",
       "    <tr>\n",
       "      <th>2014-01-06 16:00:00</th>\n",
       "      <td> 15</td>\n",
       "      <td> 72</td>\n",
       "    </tr>\n",
       "    <tr>\n",
       "      <th>2014-01-07 17:10:00</th>\n",
       "      <td> 47</td>\n",
       "      <td> 10</td>\n",
       "    </tr>\n",
       "    <tr>\n",
       "      <th>2014-01-08 18:20:00</th>\n",
       "      <td> 60</td>\n",
       "      <td> 10</td>\n",
       "    </tr>\n",
       "  </tbody>\n",
       "</table>\n",
       "</div>"
      ],
      "text/plain": [
       "                      A   C\n",
       "2014-01-02 13:40:00  40  22\n",
       "2014-01-03 14:50:00  27  82\n",
       "2014-01-06 16:00:00  15  72\n",
       "2014-01-07 17:10:00  47  10\n",
       "2014-01-08 18:20:00  60  10"
      ]
     },
     "execution_count": 15,
     "metadata": {},
     "output_type": "execute_result"
    }
   ],
   "source": [
    "# Remember that in Pandas endpoints are included\n",
    "d2.ix['2014/01/02':'2014/01/08', ['A', 'C']]"
   ]
  },
  {
   "cell_type": "code",
   "execution_count": 16,
   "metadata": {
    "collapsed": false
   },
   "outputs": [
    {
     "data": {
      "text/html": [
       "<div style=\"max-height:1000px;max-width:1500px;overflow:auto;\">\n",
       "<table border=\"1\" class=\"dataframe\">\n",
       "  <thead>\n",
       "    <tr style=\"text-align: right;\">\n",
       "      <th></th>\n",
       "      <th>A</th>\n",
       "      <th>C</th>\n",
       "    </tr>\n",
       "  </thead>\n",
       "  <tbody>\n",
       "    <tr>\n",
       "      <th>2014-01-06 16:00:00</th>\n",
       "      <td> 15</td>\n",
       "      <td> 72</td>\n",
       "    </tr>\n",
       "    <tr>\n",
       "      <th>2014-01-07 17:10:00</th>\n",
       "      <td> 47</td>\n",
       "      <td> 10</td>\n",
       "    </tr>\n",
       "  </tbody>\n",
       "</table>\n",
       "</div>"
      ],
      "text/plain": [
       "                      A   C\n",
       "2014-01-06 16:00:00  15  72\n",
       "2014-01-07 17:10:00  47  10"
      ]
     },
     "execution_count": 16,
     "metadata": {},
     "output_type": "execute_result"
    }
   ],
   "source": [
    "d2.ix['2014/01/06 12:00':'2014/01/08 12:00', ['A', 'C']]"
   ]
  },
  {
   "cell_type": "markdown",
   "metadata": {},
   "source": [
    "It is possible to mangle with indexes using offset objects. BDay means business day (be aware that xmas is considered a business day)."
   ]
  },
  {
   "cell_type": "markdown",
   "metadata": {},
   "source": [
    "## 4 Frequency conversion"
   ]
  },
  {
   "cell_type": "markdown",
   "metadata": {},
   "source": [
    "We can convert all TimeSeries to specified frequency using DateOffset objects. Optionally we can provide a fill method to handle missing values."
   ]
  },
  {
   "cell_type": "code",
   "execution_count": 17,
   "metadata": {
    "collapsed": false
   },
   "outputs": [
    {
     "data": {
      "text/html": [
       "<div style=\"float:left;padding-right: 0.6em;max-height:1000px;max-width:1500px;overflow:auto;\">\n",
       "<table border=\"1\" class=\"dataframe\">\n",
       "  <thead>\n",
       "    <tr style=\"text-align: right;\">\n",
       "      <th></th>\n",
       "      <th>A</th>\n",
       "      <th>B</th>\n",
       "      <th>C</th>\n",
       "    </tr>\n",
       "  </thead>\n",
       "  <tbody>\n",
       "    <tr>\n",
       "      <th>2014-01-01 12:30:00</th>\n",
       "      <td> 77</td>\n",
       "      <td> 75</td>\n",
       "      <td>  5</td>\n",
       "    </tr>\n",
       "    <tr>\n",
       "      <th>2014-01-02 13:40:00</th>\n",
       "      <td> 40</td>\n",
       "      <td> 41</td>\n",
       "      <td> 22</td>\n",
       "    </tr>\n",
       "    <tr>\n",
       "      <th>2014-01-03 14:50:00</th>\n",
       "      <td> 27</td>\n",
       "      <td> 95</td>\n",
       "      <td> 82</td>\n",
       "    </tr>\n",
       "    <tr>\n",
       "      <th>2014-01-06 16:00:00</th>\n",
       "      <td> 15</td>\n",
       "      <td> 80</td>\n",
       "      <td> 72</td>\n",
       "    </tr>\n",
       "    <tr>\n",
       "      <th>2014-01-07 17:10:00</th>\n",
       "      <td> 47</td>\n",
       "      <td> 21</td>\n",
       "      <td> 10</td>\n",
       "    </tr>\n",
       "    <tr>\n",
       "      <th>2014-01-08 18:20:00</th>\n",
       "      <td> 60</td>\n",
       "      <td> 59</td>\n",
       "      <td> 10</td>\n",
       "    </tr>\n",
       "    <tr>\n",
       "      <th>2014-01-09 19:30:00</th>\n",
       "      <td> 18</td>\n",
       "      <td> 47</td>\n",
       "      <td> 58</td>\n",
       "    </tr>\n",
       "  </tbody>\n",
       "</table>\n",
       "</div><div style=\"float:left;padding-right: 0.6em;max-height:1000px;max-width:1500px;overflow:auto;\">\n",
       "<table border=\"1\" class=\"dataframe\">\n",
       "  <thead>\n",
       "    <tr style=\"text-align: right;\">\n",
       "      <th></th>\n",
       "      <th>A</th>\n",
       "      <th>B</th>\n",
       "      <th>C</th>\n",
       "    </tr>\n",
       "  </thead>\n",
       "  <tbody>\n",
       "    <tr>\n",
       "      <th>2014-01-01 12:30:00</th>\n",
       "      <td> 77</td>\n",
       "      <td> 75</td>\n",
       "      <td>  5</td>\n",
       "    </tr>\n",
       "    <tr>\n",
       "      <th>2014-01-02 12:30:00</th>\n",
       "      <td> 77</td>\n",
       "      <td> 75</td>\n",
       "      <td>  5</td>\n",
       "    </tr>\n",
       "    <tr>\n",
       "      <th>2014-01-03 12:30:00</th>\n",
       "      <td> 40</td>\n",
       "      <td> 41</td>\n",
       "      <td> 22</td>\n",
       "    </tr>\n",
       "    <tr>\n",
       "      <th>2014-01-04 12:30:00</th>\n",
       "      <td> 27</td>\n",
       "      <td> 95</td>\n",
       "      <td> 82</td>\n",
       "    </tr>\n",
       "    <tr>\n",
       "      <th>2014-01-05 12:30:00</th>\n",
       "      <td> 27</td>\n",
       "      <td> 95</td>\n",
       "      <td> 82</td>\n",
       "    </tr>\n",
       "    <tr>\n",
       "      <th>2014-01-06 12:30:00</th>\n",
       "      <td> 27</td>\n",
       "      <td> 95</td>\n",
       "      <td> 82</td>\n",
       "    </tr>\n",
       "    <tr>\n",
       "      <th>2014-01-07 12:30:00</th>\n",
       "      <td> 15</td>\n",
       "      <td> 80</td>\n",
       "      <td> 72</td>\n",
       "    </tr>\n",
       "    <tr>\n",
       "      <th>2014-01-08 12:30:00</th>\n",
       "      <td> 47</td>\n",
       "      <td> 21</td>\n",
       "      <td> 10</td>\n",
       "    </tr>\n",
       "    <tr>\n",
       "      <th>2014-01-09 12:30:00</th>\n",
       "      <td> 60</td>\n",
       "      <td> 59</td>\n",
       "      <td> 10</td>\n",
       "    </tr>\n",
       "  </tbody>\n",
       "</table>\n",
       "</div><div style=\"float:left;padding-right: 0.6em;max-height:1000px;max-width:1500px;overflow:auto;\">\n",
       "<table border=\"1\" class=\"dataframe\">\n",
       "  <thead>\n",
       "    <tr style=\"text-align: right;\">\n",
       "      <th></th>\n",
       "      <th>A</th>\n",
       "      <th>B</th>\n",
       "      <th>C</th>\n",
       "    </tr>\n",
       "  </thead>\n",
       "  <tbody>\n",
       "    <tr>\n",
       "      <th>2014-01-01 12:30:00</th>\n",
       "      <td> 77</td>\n",
       "      <td> 75</td>\n",
       "      <td>  5</td>\n",
       "    </tr>\n",
       "    <tr>\n",
       "      <th>2014-01-02 12:30:00</th>\n",
       "      <td>NaN</td>\n",
       "      <td>NaN</td>\n",
       "      <td>NaN</td>\n",
       "    </tr>\n",
       "    <tr>\n",
       "      <th>2014-01-03 12:30:00</th>\n",
       "      <td>NaN</td>\n",
       "      <td>NaN</td>\n",
       "      <td>NaN</td>\n",
       "    </tr>\n",
       "    <tr>\n",
       "      <th>2014-01-04 12:30:00</th>\n",
       "      <td>NaN</td>\n",
       "      <td>NaN</td>\n",
       "      <td>NaN</td>\n",
       "    </tr>\n",
       "    <tr>\n",
       "      <th>2014-01-05 12:30:00</th>\n",
       "      <td>NaN</td>\n",
       "      <td>NaN</td>\n",
       "      <td>NaN</td>\n",
       "    </tr>\n",
       "    <tr>\n",
       "      <th>2014-01-06 12:30:00</th>\n",
       "      <td>NaN</td>\n",
       "      <td>NaN</td>\n",
       "      <td>NaN</td>\n",
       "    </tr>\n",
       "    <tr>\n",
       "      <th>2014-01-07 12:30:00</th>\n",
       "      <td>NaN</td>\n",
       "      <td>NaN</td>\n",
       "      <td>NaN</td>\n",
       "    </tr>\n",
       "    <tr>\n",
       "      <th>2014-01-08 12:30:00</th>\n",
       "      <td>NaN</td>\n",
       "      <td>NaN</td>\n",
       "      <td>NaN</td>\n",
       "    </tr>\n",
       "    <tr>\n",
       "      <th>2014-01-09 12:30:00</th>\n",
       "      <td>NaN</td>\n",
       "      <td>NaN</td>\n",
       "      <td>NaN</td>\n",
       "    </tr>\n",
       "  </tbody>\n",
       "</table>\n",
       "</div>"
      ],
      "text/plain": [
       "<IPython.core.display.HTML object>"
      ]
     },
     "execution_count": 17,
     "metadata": {},
     "output_type": "execute_result"
    }
   ],
   "source": [
    "# TODO: Fix\n",
    "HTML(side_by_side2(d2,\n",
    "                   d2.asfreq(Day(), method='ffill'),\n",
    "                   d2.asfreq(Day(), method=None)))"
   ]
  },
  {
   "cell_type": "markdown",
   "metadata": {},
   "source": [
    "## 5 Filling gaps"
   ]
  },
  {
   "cell_type": "markdown",
   "metadata": {},
   "source": [
    "We are going to see some ways to let pandas fill `NaN` values on a dataframe.\n",
    "\n",
    "The first method is called forward filling and consists on using the first element above that isn't `NaN`."
   ]
  },
  {
   "cell_type": "code",
   "execution_count": 18,
   "metadata": {
    "collapsed": false
   },
   "outputs": [
    {
     "data": {
      "text/html": [
       "<div style=\"float:left;padding-right: 0.6em;max-height:1000px;max-width:1500px;overflow:auto;\">\n",
       "<table border=\"1\" class=\"dataframe\">\n",
       "  <thead>\n",
       "    <tr style=\"text-align: right;\">\n",
       "      <th></th>\n",
       "      <th>A</th>\n",
       "      <th>B</th>\n",
       "      <th>C</th>\n",
       "    </tr>\n",
       "  </thead>\n",
       "  <tbody>\n",
       "    <tr>\n",
       "      <th>2014-01-01 12:30:00</th>\n",
       "      <td> 77</td>\n",
       "      <td>NaN</td>\n",
       "      <td>  5</td>\n",
       "    </tr>\n",
       "    <tr>\n",
       "      <th>2014-01-02 13:40:00</th>\n",
       "      <td> 40</td>\n",
       "      <td>NaN</td>\n",
       "      <td> 22</td>\n",
       "    </tr>\n",
       "    <tr>\n",
       "      <th>2014-01-03 14:50:00</th>\n",
       "      <td>NaN</td>\n",
       "      <td>NaN</td>\n",
       "      <td> 82</td>\n",
       "    </tr>\n",
       "    <tr>\n",
       "      <th>2014-01-06 16:00:00</th>\n",
       "      <td>NaN</td>\n",
       "      <td>NaN</td>\n",
       "      <td> 72</td>\n",
       "    </tr>\n",
       "    <tr>\n",
       "      <th>2014-01-07 17:10:00</th>\n",
       "      <td>NaN</td>\n",
       "      <td> 21</td>\n",
       "      <td>NaN</td>\n",
       "    </tr>\n",
       "    <tr>\n",
       "      <th>2014-01-08 18:20:00</th>\n",
       "      <td> 60</td>\n",
       "      <td> 59</td>\n",
       "      <td>NaN</td>\n",
       "    </tr>\n",
       "    <tr>\n",
       "      <th>2014-01-09 19:30:00</th>\n",
       "      <td> 18</td>\n",
       "      <td> 47</td>\n",
       "      <td>NaN</td>\n",
       "    </tr>\n",
       "  </tbody>\n",
       "</table>\n",
       "</div><div style=\"float:left;padding-right: 0.6em;max-height:1000px;max-width:1500px;overflow:auto;\">\n",
       "<table border=\"1\" class=\"dataframe\">\n",
       "  <thead>\n",
       "    <tr style=\"text-align: right;\">\n",
       "      <th></th>\n",
       "      <th>A</th>\n",
       "      <th>B</th>\n",
       "      <th>C</th>\n",
       "    </tr>\n",
       "  </thead>\n",
       "  <tbody>\n",
       "    <tr>\n",
       "      <th>2014-01-01 12:30:00</th>\n",
       "      <td> 77</td>\n",
       "      <td>NaN</td>\n",
       "      <td>  5</td>\n",
       "    </tr>\n",
       "    <tr>\n",
       "      <th>2014-01-02 13:40:00</th>\n",
       "      <td> 40</td>\n",
       "      <td>NaN</td>\n",
       "      <td> 22</td>\n",
       "    </tr>\n",
       "    <tr>\n",
       "      <th>2014-01-03 14:50:00</th>\n",
       "      <td> 40</td>\n",
       "      <td>NaN</td>\n",
       "      <td> 82</td>\n",
       "    </tr>\n",
       "    <tr>\n",
       "      <th>2014-01-06 16:00:00</th>\n",
       "      <td> 40</td>\n",
       "      <td>NaN</td>\n",
       "      <td> 72</td>\n",
       "    </tr>\n",
       "    <tr>\n",
       "      <th>2014-01-07 17:10:00</th>\n",
       "      <td> 40</td>\n",
       "      <td> 21</td>\n",
       "      <td> 72</td>\n",
       "    </tr>\n",
       "    <tr>\n",
       "      <th>2014-01-08 18:20:00</th>\n",
       "      <td> 60</td>\n",
       "      <td> 59</td>\n",
       "      <td> 72</td>\n",
       "    </tr>\n",
       "    <tr>\n",
       "      <th>2014-01-09 19:30:00</th>\n",
       "      <td> 18</td>\n",
       "      <td> 47</td>\n",
       "      <td> 72</td>\n",
       "    </tr>\n",
       "  </tbody>\n",
       "</table>\n",
       "</div>"
      ],
      "text/plain": [
       "<IPython.core.display.HTML object>"
      ]
     },
     "execution_count": 18,
     "metadata": {},
     "output_type": "execute_result"
    }
   ],
   "source": [
    "d3 = d2.copy()\n",
    "d3.iloc[2:5, 0] = np.nan\n",
    "d3.iloc[0:4, 1] = np.nan\n",
    "d3.iloc[4:, 2] = np.nan\n",
    "cols = ['A', 'B', 'C']\n",
    "HTML(side_by_side2(d3, d3[cols].fillna(method='ffill')))"
   ]
  },
  {
   "cell_type": "markdown",
   "metadata": {},
   "source": [
    "Notice that on column 'B' the `NaN` values are at the beginning. So the method hasn't been able to fill those holes. The backward filling methods is complementary to the one above. It fills gaps using the first non `NaN` value below the cell."
   ]
  },
  {
   "cell_type": "code",
   "execution_count": 19,
   "metadata": {
    "collapsed": false
   },
   "outputs": [
    {
     "data": {
      "text/html": [
       "<div style=\"float:left;padding-right: 0.6em;max-height:1000px;max-width:1500px;overflow:auto;\">\n",
       "<table border=\"1\" class=\"dataframe\">\n",
       "  <thead>\n",
       "    <tr style=\"text-align: right;\">\n",
       "      <th></th>\n",
       "      <th>A</th>\n",
       "      <th>B</th>\n",
       "      <th>C</th>\n",
       "    </tr>\n",
       "  </thead>\n",
       "  <tbody>\n",
       "    <tr>\n",
       "      <th>2014-01-01 12:30:00</th>\n",
       "      <td> 77</td>\n",
       "      <td>NaN</td>\n",
       "      <td>  5</td>\n",
       "    </tr>\n",
       "    <tr>\n",
       "      <th>2014-01-02 13:40:00</th>\n",
       "      <td> 40</td>\n",
       "      <td>NaN</td>\n",
       "      <td> 22</td>\n",
       "    </tr>\n",
       "    <tr>\n",
       "      <th>2014-01-03 14:50:00</th>\n",
       "      <td>NaN</td>\n",
       "      <td>NaN</td>\n",
       "      <td> 82</td>\n",
       "    </tr>\n",
       "    <tr>\n",
       "      <th>2014-01-06 16:00:00</th>\n",
       "      <td>NaN</td>\n",
       "      <td>NaN</td>\n",
       "      <td> 72</td>\n",
       "    </tr>\n",
       "    <tr>\n",
       "      <th>2014-01-07 17:10:00</th>\n",
       "      <td>NaN</td>\n",
       "      <td> 21</td>\n",
       "      <td>NaN</td>\n",
       "    </tr>\n",
       "    <tr>\n",
       "      <th>2014-01-08 18:20:00</th>\n",
       "      <td> 60</td>\n",
       "      <td> 59</td>\n",
       "      <td>NaN</td>\n",
       "    </tr>\n",
       "    <tr>\n",
       "      <th>2014-01-09 19:30:00</th>\n",
       "      <td> 18</td>\n",
       "      <td> 47</td>\n",
       "      <td>NaN</td>\n",
       "    </tr>\n",
       "  </tbody>\n",
       "</table>\n",
       "</div><div style=\"float:left;padding-right: 0.6em;max-height:1000px;max-width:1500px;overflow:auto;\">\n",
       "<table border=\"1\" class=\"dataframe\">\n",
       "  <thead>\n",
       "    <tr style=\"text-align: right;\">\n",
       "      <th></th>\n",
       "      <th>A</th>\n",
       "      <th>B</th>\n",
       "      <th>C</th>\n",
       "    </tr>\n",
       "  </thead>\n",
       "  <tbody>\n",
       "    <tr>\n",
       "      <th>2014-01-01 12:30:00</th>\n",
       "      <td> 77</td>\n",
       "      <td> 21</td>\n",
       "      <td>  5</td>\n",
       "    </tr>\n",
       "    <tr>\n",
       "      <th>2014-01-02 13:40:00</th>\n",
       "      <td> 40</td>\n",
       "      <td> 21</td>\n",
       "      <td> 22</td>\n",
       "    </tr>\n",
       "    <tr>\n",
       "      <th>2014-01-03 14:50:00</th>\n",
       "      <td> 60</td>\n",
       "      <td> 21</td>\n",
       "      <td> 82</td>\n",
       "    </tr>\n",
       "    <tr>\n",
       "      <th>2014-01-06 16:00:00</th>\n",
       "      <td> 60</td>\n",
       "      <td> 21</td>\n",
       "      <td> 72</td>\n",
       "    </tr>\n",
       "    <tr>\n",
       "      <th>2014-01-07 17:10:00</th>\n",
       "      <td> 60</td>\n",
       "      <td> 21</td>\n",
       "      <td>NaN</td>\n",
       "    </tr>\n",
       "    <tr>\n",
       "      <th>2014-01-08 18:20:00</th>\n",
       "      <td> 60</td>\n",
       "      <td> 59</td>\n",
       "      <td>NaN</td>\n",
       "    </tr>\n",
       "    <tr>\n",
       "      <th>2014-01-09 19:30:00</th>\n",
       "      <td> 18</td>\n",
       "      <td> 47</td>\n",
       "      <td>NaN</td>\n",
       "    </tr>\n",
       "  </tbody>\n",
       "</table>\n",
       "</div>"
      ],
      "text/plain": [
       "<IPython.core.display.HTML object>"
      ]
     },
     "execution_count": 19,
     "metadata": {},
     "output_type": "execute_result"
    }
   ],
   "source": [
    "HTML(side_by_side2(d3, d3[cols].fillna(method='bfill')))"
   ]
  },
  {
   "cell_type": "code",
   "execution_count": 20,
   "metadata": {
    "collapsed": false
   },
   "outputs": [],
   "source": []
  },
  {
   "cell_type": "markdown",
   "metadata": {},
   "source": [
    "---\n",
    "\n",
    "Visit [www.add-for.com](<http://www.add-for.com/IT>) for more tutorials and updates.\n",
    "\n",
    "This work is licensed under a <a rel=\"license\" href=\"http://creativecommons.org/licenses/by-sa/4.0/\">Creative Commons Attribution-ShareAlike 4.0 International License</a>."
   ]
  }
 ],
 "metadata": {
  "kernelspec": {
   "display_name": "Python 2",
   "language": "python",
   "name": "python2"
  },
  "language_info": {
   "codemirror_mode": {
    "name": "ipython",
    "version": 2
   },
   "file_extension": ".py",
   "mimetype": "text/x-python",
   "name": "python",
   "nbconvert_exporter": "python",
   "pygments_lexer": "ipython2",
   "version": "2.7.9"
  }
 },
 "nbformat": 4,
 "nbformat_minor": 0
}