{
 "metadata": {
  "name": "",
  "signature": "sha256:12db16b560b932a6d8bff227b242178b7decd66128373e8eda57a547fbef26c9"
 },
 "nbformat": 3,
 "nbformat_minor": 0,
 "worksheets": [
  {
   "cells": [
    {
     "cell_type": "markdown",
     "metadata": {
      "slideshow": {
       "slide_type": "slide"
      }
     },
     "source": [
      "<div class=\"slide-header\">IPython</div>\n",
      "## 2001, instead of a Physics dissertation (I did graduate :)\n",
      "<center>\n",
      "<img src=\"fig/ipython_console4.png\" width=\"80%\">\n",
      "</center>"
     ]
    },
    {
     "cell_type": "code",
     "collapsed": false,
     "input": [
      "%pylab inline\n",
      "%run talktools"
     ],
     "language": "python",
     "metadata": {
      "slideshow": {
       "slide_type": "skip"
      }
     },
     "outputs": [
      {
       "output_type": "stream",
       "stream": "stdout",
       "text": [
        "Populating the interactive namespace from numpy and matplotlib\n"
       ]
      },
      {
       "html": [
        "<style>\n",
        "/*\n",
        "   Simple CSS styling for using IPython Notebooks for talks.\n",
        "\n",
        "   Author: Fernando Perez <fernando.perez@berkeley.edu>\n",
        "*/\n",
        "\n",
        ".talk-title\n",
        "{\n",
        "  color: #498AF3;\n",
        "  font-size: 220%;\n",
        "  font-weight:bold;\n",
        "  line-height: 1.2;\n",
        "  margin: 10px 50px 10px;\n",
        "  }\n",
        "\n",
        ".talk-subtitle\n",
        "{\n",
        "  color: #386BBC;\n",
        "  font-size: 150%;\n",
        "  font-weight:bold;\n",
        "  line-height: 1.2;\n",
        "  margin: 20px 50px 20px;\n",
        "  }\n",
        "\n",
        ".slide-header, p.slide-header\n",
        "{\n",
        "  color: #498AF3;\n",
        "  font-size: 180%;\n",
        "  font-weight:bold;\n",
        "  margin: 0px 20px 10px;\n",
        "  page-break-before: always;\n",
        "  text-align: center;\n",
        "  }\n",
        "\n",
        ".rendered_html\n",
        "{\n",
        "  color: #2C5494;\n",
        "  font-family: Ubuntu;\n",
        "  font-size: 170%;\n",
        "  line-height: 1.1;\n",
        "  margin: 0.5em 0;\n",
        "  }\n",
        "\n",
        ".rendered_html h1\n",
        "{\n",
        "  color: #498AF3;\n",
        "  line-height: 1.2;\n",
        "  margin: 0.15em 0em 0.5em;\n",
        "  page-break-before: always;\n",
        "  text-align: center;\n",
        "  }\n",
        "\n",
        "\n",
        ".rendered_html h2\n",
        "{\n",
        "  color: #386BBC;\n",
        "  line-height: 1.2;\n",
        "  margin: 1.1em 0em 0.5em;\n",
        "  }\n",
        "\n",
        ".rendered_html h3\n",
        "{\n",
        "  font-size: 100%;\n",
        "  line-height: 1.2;\n",
        "  margin: 1.1em 0em 0.5em;\n",
        "  }\n",
        "\n",
        ".rendered_html h5\n",
        "{\n",
        "  font-size: 50%;\n",
        "  line-height: 1;\n",
        "  margin: 0.3em 0em 0.3em;\n",
        "  font-weight: bold;\n",
        "  text-align: center;\n",
        "  }\n",
        "\n",
        ".rendered_html h6\n",
        "{\n",
        "  font-size: 50%;\n",
        "  line-height: 1;\n",
        "  margin: 0.3em 0em 0.3em;\n",
        "  font-weight: normal;\n",
        "  text-align: center;\n",
        "  }\n",
        "\n",
        ".rendered_html li\n",
        "{\n",
        "  line-height: 1.8;\n",
        "  }\n",
        "\n",
        ".input_prompt, .CodeMirror-lines, .output_area\n",
        "{\n",
        "  font-family: Consolas;\n",
        "  font-size: 120%;\n",
        "  }\n",
        "\n",
        ".gap-above\n",
        "{\n",
        "  padding-top: 200px;\n",
        "  }\n",
        "\n",
        ".gap01\n",
        "{\n",
        "  padding-top: 10px;\n",
        "  }\n",
        "\n",
        ".gap05\n",
        "{\n",
        "  padding-top: 50px;\n",
        "  }\n",
        "\n",
        ".gap1\n",
        "{\n",
        "  padding-top: 100px;\n",
        "  }\n",
        "\n",
        ".gap2\n",
        "{\n",
        "  padding-top: 200px;\n",
        "  }\n",
        "\n",
        ".gap3\n",
        "{\n",
        "  padding-top: 300px;\n",
        "  }\n",
        "\n",
        ".emph\n",
        "{\n",
        "  color: #386BBC;\n",
        "  }\n",
        "\n",
        ".strike\n",
        "{\n",
        "  text-decoration:line-through;\n",
        "  color: #94B8F3;\n",
        "  }\n",
        "\n",
        ".warn\n",
        "{\n",
        "  color: red;\n",
        "  }\n",
        "\n",
        ".center\n",
        "{\n",
        "  text-align: center;\n",
        "  }\n",
        "\n",
        ".nb_link\n",
        "{\n",
        "    padding-bottom: 0.5em;\n",
        "}\n",
        "\n",
        "</style>\n"
       ],
       "metadata": {},
       "output_type": "display_data",
       "text": [
        "<IPython.core.display.HTML at 0x7f414598d4d0>"
       ]
      }
     ],
     "prompt_number": 17
    },
    {
     "cell_type": "markdown",
     "metadata": {
      "slideshow": {
       "slide_type": "slide"
      }
     },
     "source": [
      "## November 2001: \"Just an afternoon hack\"\n",
      "\n",
      "* [259 Line Python script](https://gist.github.com/fperez/1579699).\n",
      "* `sys.ps1` -> `In [N]`.\n",
      "* `sys.displayhook` -> `Out[N]`, *caches results*.\n",
      "* Plotting, Numeric, etc.\n",
      "\n",
      "## Now, IPython 2.0 ([Ohloh stats](http://www.ohloh.net/p/ipython))\n",
      "\n",
      "* 15,762 commits \n",
      "* 337 contributors\n",
      "* Total Lines : 151,353\n",
      "  - Code Lines : 85,066\n",
      "  - Comment Lines : 39,905\n",
      "* Number of Languages : 6 (JS, CSS, HTML, ...)"
     ]
    },
    {
     "cell_type": "code",
     "collapsed": false,
     "input": [
      "import ipythonproject; ipythonproject.core_devs()"
     ],
     "language": "python",
     "metadata": {
      "slideshow": {
       "slide_type": "slide"
      }
     },
     "outputs": [
      {
       "html": [
        "<center><h2>IPython Core Developers</h2><table width=\"95%%\"><tr><td><img src=\"ipythonteam/fperez.jpg\" style=\"height: 130px; text-align: center; margin-left: auto; margin-right: auto;\"/><h5><style=\"text-align:center;\">Fernando Perez</h5></td><td><img src=\"ipythonteam/ellisonbg.jpg\" style=\"height: 130px; text-align: center; margin-left: auto; margin-right: auto;\"/><h5><style=\"text-align:center;\">Brian Granger</h5></td><td><img src=\"ipythonteam/minrk.jpg\" style=\"height: 130px; text-align: center; margin-left: auto; margin-right: auto;\"/><h5><style=\"text-align:center;\">Min Ragan-Kelley</h5></td><td><img src=\"ipythonteam/takluyver.jpg\" style=\"height: 130px; text-align: center; margin-left: auto; margin-right: auto;\"/><h5><style=\"text-align:center;\">Thomas Kluyver</h5></td><td><img src=\"ipythonteam/matthias.jpg\" style=\"height: 130px; text-align: center; margin-left: auto; margin-right: auto;\"/><h6><style=\"text-align:center;\">Matthias Bussonnier</h6></td></tr><tr><td><img src=\"ipythonteam/jdfreder.jpg\" style=\"height: 130px; text-align: center; margin-left: auto; margin-right: auto;\"/><h5><style=\"text-align:center;\">Jonathan Frederic</h5></td><td><img src=\"ipythonteam/ivanov.jpg\" style=\"height: 130px; text-align: center; margin-left: auto; margin-right: auto;\"/><h5><style=\"text-align:center;\">Paul Ivanov</h5></td><td><img src=\"ipythonteam/damianavila.jpg\" style=\"height: 130px; text-align: center; margin-left: auto; margin-right: auto;\"/><h6><style=\"text-align:center;\">Damian Avila</h6></td><td><img src=\"ipythonteam/rgbkrk.jpg\" style=\"height: 130px; text-align: center; margin-left: auto; margin-right: auto;\"/><h6><style=\"text-align:center;\">Kyle Kelley</h6></td><td><img src=\"ipythonteam/zsailer.jpg\" style=\"height: 130px; text-align: center; margin-left: auto; margin-right: auto;\"/><h6><style=\"text-align:center;\">Zach Sailer</h6></td></tr><tr><td><img src=\"ipythonteam/jorgen.jpg\" style=\"height: 130px; text-align: center; margin-left: auto; margin-right: auto;\"/><h6><style=\"text-align:center;\">Jorgen Stenarson</h6></td><td><img src=\"ipythonteam/jdmarch.jpg\" style=\"height: 130px; text-align: center; margin-left: auto; margin-right: auto;\"/><h6><style=\"text-align:center;\">Jonathan March</h6></td><td><img src=\"ipythonteam/brad.jpg\" style=\"height: 130px; text-align: center; margin-left: auto; margin-right: auto;\"/><h6><style=\"text-align:center;\">Brad Froehle</h6></td><td><img src=\"ipythonteam/epatters.jpg\" style=\"height: 130px; text-align: center; margin-left: auto; margin-right: auto;\"/><h6><style=\"text-align:center;\">Evan Patterson</h6></td><td><img src=\"ipythonteam/rkern.jpg\" style=\"height: 130px; text-align: center; margin-left: auto; margin-right: auto;\"/><h6><style=\"text-align:center;\">Robert Kern</h6></td></tr></table></center>"
       ],
       "metadata": {},
       "output_type": "display_data",
       "text": [
        "<IPython.core.display.HTML at 0x7f41459f7710>"
       ]
      }
     ],
     "prompt_number": 18
    },
    {
     "cell_type": "markdown",
     "metadata": {
      "slideshow": {
       "slide_type": "slide"
      }
     },
     "source": [
      "# Current IPython funding\n",
      "\n",
      "<img src=\"fig/sloan-logo.png\" width=35%></img>\n",
      "\n",
      "<img src=\"fig/microsoft-logo.png\" width=35%></img>\n",
      "\n",
      "<img src=\"fig/simons-logo.png\" width=50%></img>\n",
      "\n",
      "<img src=\"fig/nsf-logo.png\" width=12%></img>\n",
      "\n",
      "<img src=\"fig/rackspace-logo.png\" width=\"30%\"></img>"
     ]
    },
    {
     "cell_type": "markdown",
     "metadata": {
      "slideshow": {
       "slide_type": "slide"
      }
     },
     "source": [
      "# 150K LOC for `exec src in user_dict`???\n",
      "\n",
      "* **<span class=\"emph\">Language-independent</span>** tools for interactive computing:\n",
      "  - The [IPython Protocol](http://ipython.org/ipython-doc/2/development/messaging.html): \"HTTP\"\n",
      "  - The [Notebook Format](http://ipython.org/ipython-doc/2/api/generated/IPython.nbformat.current.html#module-IPython.nbformat.current): \"HTML\"\n",
      "\n",
      "* **<span class=\"emph\">Protocol</span>**:\n",
      "  - A kernel: the \"IPython shell\".\n",
      "  - Three clients: Text Console, Qt console, Web Notebook.\n",
      "  \n",
      "* **<span class=\"emph\">Format</span>**: `IPython.nbconvert` (HTML, PDF, ...).\n",
      "\n",
      "* A **<span class=\"emph\">notebook-sharing</span>** service: http://nbviewer.ipython.org (thanks Rackspace!).\n",
      "  \n",
      "* Python-specific library [for interactive parallel computing](http://ipython.org/ipython-doc/2/parallel/index.html)."
     ]
    },
    {
     "cell_type": "markdown",
     "metadata": {
      "slideshow": {
       "slide_type": "slide"
      }
     },
     "source": [
      "# What can the official kernel do?"
     ]
    },
    {
     "cell_type": "code",
     "collapsed": false,
     "input": [
      "import mpld3; mpld3.enable_notebook()   # Jake van der Plas is here\n",
      "import pandas as pd                     # Wes McKinney is here\n",
      "\n",
      "pd.read_csv('MSFT_2000_2002.csv').plot();"
     ],
     "language": "python",
     "metadata": {},
     "outputs": [],
     "prompt_number": 1
    },
    {
     "cell_type": "code",
     "collapsed": false,
     "input": [
      "mpld3.disable_notebook()  # performance is still a little low, turn off for the rest"
     ],
     "language": "python",
     "metadata": {},
     "outputs": [],
     "prompt_number": 2
    },
    {
     "cell_type": "markdown",
     "metadata": {
      "slideshow": {
       "slide_type": "slide"
      }
     },
     "source": [
      "# Mix and match languages: Julia"
     ]
    },
    {
     "cell_type": "code",
     "collapsed": false,
     "input": [
      "%load_ext julia.magic\n",
      "%julia @pyimport matplotlib.pyplot as plt\n",
      "%julia @pyimport numpy as np"
     ],
     "language": "python",
     "metadata": {},
     "outputs": [
      {
       "output_type": "stream",
       "stream": "stdout",
       "text": [
        "Initializing Julia interpreter. This may take some time..."
       ]
      },
      {
       "output_type": "stream",
       "stream": "stdout",
       "text": [
        "\n"
       ]
      }
     ],
     "prompt_number": 5
    },
    {
     "cell_type": "code",
     "collapsed": false,
     "input": [
      "%%julia\n",
      "# Note how we mix numpy and julia:\n",
      "t = linspace(0,2*pi,1000); # use the julia linspace\n",
      "s = sin(3*t + 4*np.cos(2*t)); # use the numpy cosine and julia sine\n",
      "fig = plt.gcf()  # **** WATCH THIS VARIABLE ****\n",
      "plt.plot(t, s, color=\"red\", linewidth=2.0, linestyle=\"--\")"
     ],
     "language": "python",
     "metadata": {},
     "outputs": [
      {
       "metadata": {},
       "output_type": "pyout",
       "prompt_number": 6,
       "text": [
        "[<matplotlib.lines.Line2D at 0x7f4145a7c390>]"
       ]
      },
      {
       "metadata": {},
       "output_type": "display_data",
       "png": "[encoded data removed]",
       "text": [
        "<matplotlib.figure.Figure at 0x7f4145a03c90>"
       ]
      }
     ],
     "prompt_number": 6
    },
    {
     "cell_type": "markdown",
     "metadata": {
      "slideshow": {
       "slide_type": "slide"
      }
     },
     "source": [
      "# Deep cross-language integration"
     ]
    },
    {
     "cell_type": "code",
     "collapsed": false,
     "input": [
      "fig = %julia fig\n",
      "fig"
     ],
     "language": "python",
     "metadata": {
      "slideshow": {
       "slide_type": "-"
      }
     },
     "outputs": [
      {
       "metadata": {},
       "output_type": "pyout",
       "png": "[encoded data removed]",
       "prompt_number": 7,
       "text": [
        "<matplotlib.figure.Figure at 0x7f4145a03c90>"
       ]
      }
     ],
     "prompt_number": 7
    },
    {
     "cell_type": "markdown",
     "metadata": {
      "slideshow": {
       "slide_type": "slide"
      }
     },
     "source": [
      "# The stack as a layer cake"
     ]
    },
    {
     "cell_type": "code",
     "collapsed": false,
     "input": [
      "fib = %julia fib(n, fib2) = n < 2 ? n : fib2(n-1, fib) + fib2(n-2, fib)\n",
      "    \n",
      "def fib2(n, fib):\n",
      "    print 'Into Python, n=',n,\n",
      "    if n < 2:\n",
      "         return n\n",
      "    print 'Out to Julia'\n",
      "    return fib(n-1, fib2) + fib(n-2, fib2)\n",
      "\n",
      "fib2(6, fib)"
     ],
     "language": "python",
     "metadata": {},
     "outputs": [
      {
       "output_type": "stream",
       "stream": "stdout",
       "text": [
        "Into Python, n= 6 Out to Julia\n",
        "Into Python, n= 4 Out to Julia\n",
        "Into Python, n= 2 Out to Julia\n",
        "Into Python, n= 1 Into Python, n= 1 Into Python, n= 0 Into Python, n= 3 Out to Julia\n",
        "Into Python, n= 1 Into Python, n= 0 Into Python, n= 3 Out to Julia\n",
        "Into Python, n= 1 Into Python, n= 0 Into Python, n= 2 Out to Julia\n"
       ]
      },
      {
       "metadata": {},
       "output_type": "pyout",
       "prompt_number": 8,
       "text": [
        "8"
       ]
      }
     ],
     "prompt_number": 8
    },
    {
     "cell_type": "markdown",
     "metadata": {
      "slideshow": {
       "slide_type": "slide"
      }
     },
     "source": [
      "# Exploring values in an image"
     ]
    },
    {
     "cell_type": "code",
     "collapsed": false,
     "input": [
      "plt.rcParams['image.interpolation'] = 'nearest'\n",
      "plt.gray()\n",
      "\n",
      "img = randn(100,100)\n",
      "plt.imshow(img);"
     ],
     "language": "python",
     "metadata": {
      "slideshow": {
       "slide_type": "-"
      }
     },
     "outputs": [
      {
       "metadata": {},
       "output_type": "display_data",
       "png": "[encoded data removed]",
       "text": [
        "<matplotlib.figure.Figure at 0x7f4145a73190>"
       ]
      }
     ],
     "prompt_number": 10
    },
    {
     "cell_type": "markdown",
     "metadata": {
      "slideshow": {
       "slide_type": "slide"
      }
     },
     "source": [
      "# Can we threshold interactively?"
     ]
    },
    {
     "cell_type": "code",
     "collapsed": false,
     "input": [
      "from IPython.html.widgets import interact\n",
      "\n",
      "interact(lambda threshold: imshow(img < threshold), threshold=(-2, 2.));"
     ],
     "language": "python",
     "metadata": {
      "slideshow": {
       "slide_type": "-"
      }
     },
     "outputs": [
      {
       "metadata": {},
       "output_type": "display_data",
       "png": "[encoded data removed]",
       "text": [
        "<matplotlib.figure.Figure at 0x7f4145977390>"
       ]
      }
     ],
     "prompt_number": 11
    },
    {
     "cell_type": "markdown",
     "metadata": {
      "slideshow": {
       "slide_type": "-"
      }
     },
     "source": [
      "Example credit: [Michael Aye](http://@michaelaye)"
     ]
    },
    {
     "cell_type": "markdown",
     "metadata": {
      "slideshow": {
       "slide_type": "slide"
      }
     },
     "source": [
      "# Spreadsheets? Who needs spreadsheets?"
     ]
    },
    {
     "cell_type": "code",
     "collapsed": false,
     "input": [
      "%run handsondf.py\n",
      "data = np.random.randint(size=(3, 5), low=0, high=9)\n",
      "ds = DataSheet(data)"
     ],
     "language": "python",
     "metadata": {},
     "outputs": [
      {
       "javascript": [
        "\n",
        "var table_id = 0;\n",
        "require([\"widgets/js/widget\"], function(WidgetManager){    \n",
        "    // Define the HandsonTableView\n",
        "    var HandsonTableView = IPython.DOMWidgetView.extend({\n",
        "        \n",
        "        render: function(){\n",
        "            // CREATION OF THE WIDGET IN THE NOTEBOOK.\n",
        "            \n",
        "            // Add a <div> in the widget area.\n",
        "            this.$table = $('<div />')\n",
        "                .attr('id', 'table_' + (table_id++))\n",
        "                .appendTo(this.$el);\n",
        "            // Create the Handsontable table.\n",
        "            this.$table.handsontable({\n",
        "            });\n",
        "            \n",
        "        },\n",
        "        \n",
        "        update: function() {\n",
        "            // PYTHON --> JS UPDATE.\n",
        "            \n",
        "            // Get the model's JSON string, and parse it.\n",
        "            var data = $.parseJSON(this.model.get('value'));\n",
        "            // Give it to the Handsontable widget.\n",
        "            this.$table.handsontable({data: data});\n",
        "            \n",
        "            // Don't touch this...\n",
        "            return HandsonTableView.__super__.update.apply(this);\n",
        "        },\n",
        "        \n",
        "        // Tell Backbone to listen to the change event of input controls.\n",
        "        events: {\"change\": \"handle_table_change\"},\n",
        "        \n",
        "        handle_table_change: function(event) {\n",
        "            // JS --> PYTHON UPDATE.\n",
        "            \n",
        "            // Get the table instance.\n",
        "            var ht = this.$table.handsontable('getInstance');\n",
        "            // Get the data, and serialize it in JSON.\n",
        "            var json = JSON.stringify(ht.getData());\n",
        "            // Update the model with the JSON string.\n",
        "            this.model.set('value', json);\n",
        "            \n",
        "            // Don't touch this...\n",
        "            this.touch();\n",
        "        },\n",
        "    });\n",
        "    \n",
        "    // Register the HandsonTableView with the widget manager.\n",
        "    WidgetManager.register_widget_view('HandsonTableView', HandsonTableView);\n",
        "});\n"
       ],
       "metadata": {},
       "output_type": "display_data",
       "text": [
        "<IPython.core.display.Javascript at 0x109c31710>"
       ]
      }
     ],
     "prompt_number": 3
    },
    {
     "cell_type": "code",
     "collapsed": false,
     "input": [
      "ds"
     ],
     "language": "python",
     "metadata": {},
     "outputs": [
      {
       "html": [
        "<div style=\"max-height:1000px;max-width:1500px;overflow:auto;\">\n",
        "<table border=\"1\" class=\"dataframe\">\n",
        "  <thead>\n",
        "    <tr style=\"text-align: right;\">\n",
        "      <th></th>\n",
        "      <th>0</th>\n",
        "      <th>1</th>\n",
        "      <th>2</th>\n",
        "      <th>3</th>\n",
        "      <th>4</th>\n",
        "    </tr>\n",
        "  </thead>\n",
        "  <tbody>\n",
        "    <tr>\n",
        "      <th>0</th>\n",
        "      <td> 6</td>\n",
        "      <td> 5</td>\n",
        "      <td> 8</td>\n",
        "      <td> 4</td>\n",
        "      <td> 4</td>\n",
        "    </tr>\n",
        "    <tr>\n",
        "      <th>1</th>\n",
        "      <td> 3</td>\n",
        "      <td> 8</td>\n",
        "      <td> 8</td>\n",
        "      <td> 5</td>\n",
        "      <td> 8</td>\n",
        "    </tr>\n",
        "    <tr>\n",
        "      <th>2</th>\n",
        "      <td> 2</td>\n",
        "      <td> 6</td>\n",
        "      <td> 5</td>\n",
        "      <td> 5</td>\n",
        "      <td> 8</td>\n",
        "    </tr>\n",
        "  </tbody>\n",
        "</table>\n",
        "<p>3 rows \u00d7 5 columns</p>\n",
        "</div>"
       ],
       "metadata": {},
       "output_type": "pyout",
       "prompt_number": 4,
       "text": [
        "<__main__.DataSheet at 0x109c19b50>"
       ]
      }
     ],
     "prompt_number": 4
    },
    {
     "cell_type": "markdown",
     "metadata": {
      "slideshow": {
       "slide_type": "-"
      }
     },
     "source": [
      "Credit: [Cyrille Rossant](http://cyrille.rossant.net)"
     ]
    },
    {
     "cell_type": "code",
     "collapsed": false,
     "input": [
      "ds.edit()"
     ],
     "language": "python",
     "metadata": {
      "slideshow": {
       "slide_type": "slide"
      }
     },
     "outputs": [],
     "prompt_number": 5
    },
    {
     "cell_type": "code",
     "collapsed": false,
     "input": [
      "ds"
     ],
     "language": "python",
     "metadata": {},
     "outputs": [
      {
       "html": [
        "<div style=\"max-height:1000px;max-width:1500px;overflow:auto;\">\n",
        "<table border=\"1\" class=\"dataframe\">\n",
        "  <thead>\n",
        "    <tr style=\"text-align: right;\">\n",
        "      <th></th>\n",
        "      <th>0</th>\n",
        "      <th>1</th>\n",
        "      <th>2</th>\n",
        "      <th>3</th>\n",
        "      <th>4</th>\n",
        "    </tr>\n",
        "  </thead>\n",
        "  <tbody>\n",
        "    <tr>\n",
        "      <th>0</th>\n",
        "      <td> 6</td>\n",
        "      <td> 5</td>\n",
        "      <td> 8</td>\n",
        "      <td> 4</td>\n",
        "      <td> 4</td>\n",
        "    </tr>\n",
        "    <tr>\n",
        "      <th>1</th>\n",
        "      <td> 3</td>\n",
        "      <td> 8</td>\n",
        "      <td> 8</td>\n",
        "      <td> 5</td>\n",
        "      <td> 8</td>\n",
        "    </tr>\n",
        "    <tr>\n",
        "      <th>2</th>\n",
        "      <td> 2</td>\n",
        "      <td> 6</td>\n",
        "      <td> 5</td>\n",
        "      <td> 5</td>\n",
        "      <td> 8</td>\n",
        "    </tr>\n",
        "  </tbody>\n",
        "</table>\n",
        "<p>3 rows \u00d7 5 columns</p>\n",
        "</div>"
       ],
       "metadata": {},
       "output_type": "pyout",
       "prompt_number": 6,
       "text": [
        "<__main__.DataSheet at 0x109c19b50>"
       ]
      }
     ],
     "prompt_number": 6
    },
    {
     "cell_type": "code",
     "collapsed": false,
     "input": [
      "ds.df.plot();"
     ],
     "language": "python",
     "metadata": {
      "slideshow": {
       "slide_type": "-"
      }
     },
     "outputs": [],
     "prompt_number": 7
    },
    {
     "cell_type": "markdown",
     "metadata": {
      "slideshow": {
       "slide_type": "slide"
      }
     },
     "source": [
      "# Javascript gets a brain\n",
      "## D3.js with a live Python kernel\n",
      "\n",
      "* [Visualizing integer factorization](IntegerFactorizer.ipynb)"
     ]
    },
    {
     "cell_type": "markdown",
     "metadata": {
      "slideshow": {
       "slide_type": "slide"
      }
     },
     "source": [
      "<div class=\"slide-header\">A simple and generic architecture</div>\n",
      "<center>\n",
      "<img src=\"fig/ipkernel_clients.png\" width=\"50%\">\n",
      "</center>"
     ]
    },
    {
     "cell_type": "markdown",
     "metadata": {
      "slideshow": {
       "slide_type": "slide"
      }
     },
     "source": [
      "<div class=\"slide-header\">Kernels, they are everywhere!</div>\n",
      "\n",
      "1. [IPython](http://ipython.org) \"Official\", we ship it.\n",
      "1. [IJulia](http://nbviewer.ipython.org/url/jdj.mit.edu/~stevenj/IJulia%20Preview.ipynb)\n",
      "1. [IHaskell](http://nbviewer.ipython.org/github/gibiansky/IHaskell/blob/master/demo/IHaskell.ipynb)\n",
      "1. [IFSharp](http://nbviewer.ipython.org/github/BayardRock/IfSharp/blob/master/Feature%20Notebook.ipynb)\n",
      "1. [IRuby](http://nbviewer.ipython.org/github/minad/iruby/blob/master/IRuby-Example.ipynb)\n",
      "1. [IGo](https://github.com/takluyver/igo)\n",
      "1. [IScala](https://github.com/mattpap/IScala)\n",
      "1. [IMathics](http://nbviewer.ipython.org/gist/sn6uv/8381447)\n",
      "1. [IAldor](https://github.com/mattpap/IAldor)\n",
      "1. [IRKernel](https://github.com/takluyver/IRkernel): [Leaflet routing in R](http://nbviewer.ipython.org/gist/anonymous/9998388/rmaps_leaflet_routing.ipynb)\n",
      "1. [IErlang](https://github.com/robbielynch/ierlang)"
     ]
    },
    {
     "cell_type": "markdown",
     "metadata": {
      "slideshow": {
       "slide_type": "slide"
      }
     },
     "source": [
      "# Our web architecture: \n",
      "\n",
      "## Not just the notebook\n",
      "\n",
      "### [The \"Single cell\" example](http://github.com/minrk/singlecell)"
     ]
    }
   ],
   "metadata": {}
  }
 ]
}