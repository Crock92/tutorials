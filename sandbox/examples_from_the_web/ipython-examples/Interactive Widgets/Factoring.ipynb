{
 "metadata": {
  "name": "",
  "signature": "sha256:14048a7871caa71b1248b82c4367a2fea932f52d257911f1109b4552379cf6b9"
 },
 "nbformat": 3,
 "nbformat_minor": 0,
 "worksheets": [
  {
   "cells": [
    {
     "cell_type": "heading",
     "level": 1,
     "metadata": {},
     "source": [
      "Factoring Polynomials with SymPy"
     ]
    },
    {
     "cell_type": "markdown",
     "metadata": {},
     "source": [
      "Here is an example that uses [SymPy](http://sympy.org/en/index.html) to factor polynomials."
     ]
    },
    {
     "cell_type": "code",
     "collapsed": false,
     "input": [
      "from IPython.html.widgets import interact\n",
      "from IPython.display import display"
     ],
     "language": "python",
     "metadata": {},
     "outputs": [],
     "prompt_number": 1
    },
    {
     "cell_type": "code",
     "collapsed": false,
     "input": [
      "from sympy import Symbol, Eq, factor, init_printing\n",
      "init_printing(use_latex='mathjax')"
     ],
     "language": "python",
     "metadata": {},
     "outputs": [],
     "prompt_number": 2
    },
    {
     "cell_type": "code",
     "collapsed": false,
     "input": [
      "x = Symbol('x')"
     ],
     "language": "python",
     "metadata": {},
     "outputs": [],
     "prompt_number": 3
    },
    {
     "cell_type": "code",
     "collapsed": false,
     "input": [
      "def factorit(n):\n",
      "    display(Eq(x**n-1, factor(x**n-1)))"
     ],
     "language": "python",
     "metadata": {},
     "outputs": [],
     "prompt_number": 4
    },
    {
     "cell_type": "markdown",
     "metadata": {},
     "source": [
      "Notice how the output of the `factorit` function is properly formatted LaTeX."
     ]
    },
    {
     "cell_type": "code",
     "collapsed": false,
     "input": [
      "factorit(12)"
     ],
     "language": "python",
     "metadata": {},
     "outputs": [
      {
       "latex": [
        "$$x^{12} - 1 = \\left(x - 1\\right) \\left(x + 1\\right) \\left(x^{2} + 1\\right) \\left(x^{2} - x + 1\\right) \\left(x^{2} + x + 1\\right) \\left(x^{4} - x^{2} + 1\\right)$$"
       ],
       "metadata": {},
       "output_type": "display_data",
       "text": [
        " 12                       \u239b 2    \u239e \u239b 2        \u239e \u239b 2        \u239e \u239b 4    2    \u239e\n",
        "x   - 1 = (x - 1)\u22c5(x + 1)\u22c5\u239dx  + 1\u23a0\u22c5\u239dx  - x + 1\u23a0\u22c5\u239dx  + x + 1\u23a0\u22c5\u239dx  - x  + 1\u23a0"
       ]
      }
     ],
     "prompt_number": 5
    },
    {
     "cell_type": "code",
     "collapsed": false,
     "input": [
      "interact(factorit, n=(2,40));"
     ],
     "language": "python",
     "metadata": {},
     "outputs": [
      {
       "latex": [
        "$$x^{23} - 1 = \\left(x - 1\\right) \\left(x^{22} + x^{21} + x^{20} + x^{19} + x^{18} + x^{17} + x^{16} + x^{15} + x^{14} + x^{13} + x^{12} + x^{11} + x^{10} + x^{9} + x^{8} + x^{7} + x^{6} + x^{5} + x^{4} + x^{3} + x^{2} + x + 1\\right)$$"
       ],
       "metadata": {},
       "output_type": "display_data",
       "text": [
        " 23               \u239b 22    21    20    19    18    17    16    15    14    13  \n",
        "x   - 1 = (x - 1)\u22c5\u239dx   + x   + x   + x   + x   + x   + x   + x   + x   + x   +\n",
        "\n",
        "  12    11    10    9    8    7    6    5    4    3    2        \u239e\n",
        " x   + x   + x   + x  + x  + x  + x  + x  + x  + x  + x  + x + 1\u23a0"
       ]
      }
     ],
     "prompt_number": 6
    },
    {
     "cell_type": "code",
     "collapsed": false,
     "input": [],
     "language": "python",
     "metadata": {},
     "outputs": []
    }
   ],
   "metadata": {}
  }
 ]
}