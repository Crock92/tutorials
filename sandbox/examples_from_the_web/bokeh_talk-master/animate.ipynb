{
 "metadata": {
  "name": "",
  "signature": "sha256:792ab25ac31a1dd1980b2129f3f97fde55307042aa2fd581bcdccf9531841309"
 },
 "nbformat": 3,
 "nbformat_minor": 0,
 "worksheets": [
  {
   "cells": [
    {
     "cell_type": "code",
     "collapsed": false,
     "input": [
      "import numpy as np\n",
      "from bokeh.plotting import *\n",
      "output_notebook(url=\"http://localhost:5006/\")"
     ],
     "language": "python",
     "metadata": {},
     "outputs": []
    },
    {
     "cell_type": "code",
     "collapsed": false,
     "input": [
      "!bokeh-server"
     ],
     "language": "python",
     "metadata": {},
     "outputs": [
      {
       "output_type": "stream",
       "stream": "stdout",
       "text": [
        "\r\n",
        "Starting Bokeh plot server on port 5006...\r\n",
        "View http://127.0.0.1:5006/bokeh to see plots\r\n",
        "\r\n"
       ]
      },
      {
       "output_type": "stream",
       "stream": "stdout",
       "text": [
        "[5295] 10 May 13:53:00.637 # Server started, Redis version 2.6.9\r\n"
       ]
      }
     ]
    },
    {
     "cell_type": "code",
     "collapsed": false,
     "input": [
      "import numpy as np\n",
      "from numpy import pi, cos, sin, linspace\n",
      "\n",
      "colors = (\"#A6CEE3\", \"#1F78B4\", \"#B2DF8A\")\n",
      "N = 36\n",
      "r_base = 8\n",
      "theta = linspace(0, 2*pi, N)\n",
      "r_x = linspace(0, 6*pi, N-1)\n",
      "rmin = r_base - cos(r_x) - 1\n",
      "rmax = r_base + sin(r_x) + 1\n",
      "\n",
      "cx = cy = np.ones_like(rmin)\n",
      "annular_wedge(cx, cy, \n",
      "        rmin, rmax, theta[:-1], theta[1:],\n",
      "        inner_radius_units=\"data\",\n",
      "        outer_radius_units=\"data\",\n",
      "        color = colors[0], \n",
      "        line_color=\"black\", tools=\"pan,zoom,resize\")\n",
      "\n",
      "\n"
     ],
     "language": "python",
     "metadata": {},
     "outputs": []
    },
    {
     "cell_type": "code",
     "collapsed": false,
     "input": [
      "import time\n",
      "from bokeh.objects import Glyph\n",
      "renderer = [r for r in curplot().renderers if isinstance(r, Glyph)][0]\n",
      "ds = renderer.data_source\n",
      "while True:\n",
      "    for i in np.linspace(-2*np.pi, 2*np.pi, 50):\n",
      "        rmin = ds.data[\"inner_radius\"]\n",
      "        rmin = np.roll(rmin, 1)\n",
      "        ds.data[\"inner_radius\"] = rmin\n",
      "        rmax = ds.data[\"outer_radius\"]\n",
      "        rmax = np.roll(rmax, -1)\n",
      "        ds.data[\"outer_radius\"] = rmax\n",
      "        ds._dirty = True\n",
      "        session().store_obj(ds)\n",
      "        time.sleep(.25)"
     ],
     "language": "python",
     "metadata": {},
     "outputs": []
    },
    {
     "cell_type": "code",
     "collapsed": false,
     "input": [],
     "language": "python",
     "metadata": {},
     "outputs": []
    }
   ],
   "metadata": {}
  }
 ]
}