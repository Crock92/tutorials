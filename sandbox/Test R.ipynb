{
 "cells": [
  {
   "cell_type": "markdown",
   "metadata": {},
   "source": [
    "## 5 R randomForest package\n",
    "In this section we provide a comparison example with `randomForest` package in **R** and its main differences with the scikit-learn implementation. R does not offer a complete container and a standard interface to Machine Learning algorithms like scikit-learn thus each algorithm has its own package and its own interface. As dispersive as it may seem it has the advantage that each algorithm can be tweaked beyond the standard implementation and can offer several additional tricks."
   ]
  },
  {
   "cell_type": "markdown",
   "metadata": {},
   "source": [
    "It is possible to use **R** directly from **Python** with the module [rpy2](http://rpy.sourceforge.net/), with results that can be passed back and forth between the two languages. It seems a fairly robust and well maintaned."
   ]
  },
  {
   "cell_type": "code",
   "execution_count": 1,
   "metadata": {
    "collapsed": true
   },
   "outputs": [],
   "source": [
    "%load_ext rpy2.ipython"
   ]
  },
  {
   "cell_type": "markdown",
   "metadata": {},
   "source": [
    "The command above load an extension for ipython with rpy2 and allows ipython notebook to interpret R syntax to be used whithin the notebook (using the magic `%R`)"
   ]
  },
  {
   "cell_type": "code",
   "execution_count": 2,
   "metadata": {
    "collapsed": false
   },
   "outputs": [
    {
     "name": "stderr",
     "output_type": "stream",
     "text": [
      "/usr/local/lib/python2.7/dist-packages/rpy2/robjects/functions.py:106: UserWarning: randomForest 4.6-10\n",
      "\n",
      "  res = super(Function, self).__call__(*new_args, **new_kwargs)\n",
      "/usr/local/lib/python2.7/dist-packages/rpy2/robjects/functions.py:106: UserWarning: Type rfNews() to see new features/changes/bug fixes.\n",
      "\n",
      "  res = super(Function, self).__call__(*new_args, **new_kwargs)\n"
     ]
    },
    {
     "data": {
      "text/plain": [
       "[1] \"Data loaded\"\n"
      ]
     },
     "metadata": {},
     "output_type": "display_data"
    }
   ],
   "source": [
    "%R library(randomForest)\n",
    "%R library(foreign)\n",
    "%R data <- read.arff(\"../machine_learning/example_data/Training Dataset.arff\")\n",
    "%R print(\"Data loaded\")"
   ]
  },
  {
   "cell_type": "code",
   "execution_count": 3,
   "metadata": {
    "collapsed": false
   },
   "outputs": [
    {
     "data": {
      "text/plain": [
       "\n",
       "Call:\n",
       " randomForest(formula = Result ~ ., data = data, importance = T,      proximity = T) \n",
       "               Type of random forest: classification\n",
       "                     Number of trees: 500\n",
       "No. of variables tried at each split: 5\n",
       "\n",
       "        OOB estimate of  error rate: 3.09%\n",
       "Confusion matrix:\n",
       "      1   -1 class.error\n",
       "1  6024  133  0.02160143\n",
       "-1  209 4689  0.04267048\n"
      ]
     },
     "metadata": {},
     "output_type": "display_data"
    }
   ],
   "source": [
    "%R rfc <- randomForest(Result ~., data=data, importance=T, proximity=T)\n",
    "%R print(rfc)"
   ]
  },
  {
   "cell_type": "markdown",
   "metadata": {},
   "source": [
    "Calling the randomForest method returns an object that contains all the information about the results, such as formula, error rate, confusion matrix, importance, etc. Each piece of information can be retrieved either by printing a summary of the object or with a specific function (or accessing the corresponding variable in the data structure directly). For example it is possibile to retrieve information about variable importance with the command `importance`."
   ]
  },
  {
   "cell_type": "markdown",
   "metadata": {},
   "source": [
    "### 5.1 Variable importance\n",
    "The package randomForest in R has both methods for assessing variable importance, that is the one based on gini index (the same used in scikit-learn) and the one based on accuracy (shuffling of OOB variables) described in the original Breiman paper. The latter method is the one regarded as the most accurate in the literature (and for which it is possible to derive formal measure of accuracy)."
   ]
  },
  {
   "cell_type": "code",
   "execution_count": 4,
   "metadata": {
    "collapsed": false
   },
   "outputs": [
    {
     "data": {
      "text/plain": [
       "                            MeanDecreaseAccuracy\n",
       "having_IP_Address                       41.39601\n",
       "URL_Length                              37.93692\n",
       "Shortining_Service                      22.50947\n",
       "having_At_Symbol                        27.58166\n",
       "double_slash_redirecting                25.90781\n",
       "Prefix_Suffix                           43.28012\n",
       "having_Sub_Domain                       65.60224\n",
       "SSLfinal_State                          94.25260\n",
       "Domain_registeration_length             38.98349\n",
       "Favicon                                 22.07652\n",
       "port                                    16.75037\n",
       "HTTPS_token                             29.00905\n",
       "Request_URL                             41.77487\n",
       "URL_of_Anchor                           81.33707\n",
       "Links_in_tags                           80.74345\n",
       "SFH                                     45.69180\n",
       "Submitting_to_email                     33.21095\n",
       "Abnormal_URL                            25.92600\n",
       "Redirect                                31.28425\n",
       "on_mouseover                            26.12957\n",
       "RightClick                              17.08381\n",
       "popUpWidnow                             22.81020\n",
       "Iframe                                  19.99604\n",
       "age_of_domain                           42.38384\n",
       "DNSRecord                               43.64235\n",
       "web_traffic                             69.78781\n",
       "Page_Rank                               37.60698\n",
       "Google_Index                            46.40569\n",
       "Links_pointing_to_page                  50.50273\n",
       "Statistical_report                      27.14859\n"
      ]
     },
     "metadata": {},
     "output_type": "display_data"
    }
   ],
   "source": [
    "%R print(importance(rfc, type=1))"
   ]
  },
  {
   "cell_type": "code",
   "execution_count": 5,
   "metadata": {
    "collapsed": false
   },
   "outputs": [
    {
     "data": {
      "text/plain": [
       "                            MeanDecreaseGini\n",
       "having_IP_Address                  54.512603\n",
       "URL_Length                         36.210969\n",
       "Shortining_Service                 22.770973\n",
       "having_At_Symbol                   20.409061\n",
       "double_slash_redirecting           18.091619\n",
       "Prefix_Suffix                     233.428100\n",
       "having_Sub_Domain                 301.173813\n",
       "SSLfinal_State                   1701.365256\n",
       "Domain_registeration_length        76.446205\n",
       "Favicon                            19.467232\n",
       "port                               12.658135\n",
       "HTTPS_token                        25.701586\n",
       "Request_URL                        81.317630\n",
       "URL_of_Anchor                    1304.065528\n",
       "Links_in_tags                     196.676588\n",
       "SFH                                92.782148\n",
       "Submitting_to_email                22.696708\n",
       "Abnormal_URL                       20.921589\n",
       "Redirect                           22.041497\n",
       "on_mouseover                       15.780596\n",
       "RightClick                          7.398601\n",
       "popUpWidnow                        22.677545\n",
       "Iframe                             12.126099\n",
       "age_of_domain                      54.079483\n",
       "DNSRecord                          50.103702\n",
       "web_traffic                       378.828120\n",
       "Page_Rank                          44.589892\n",
       "Google_Index                       52.585129\n",
       "Links_pointing_to_page             76.987863\n",
       "Statistical_report                 19.384723\n"
      ]
     },
     "metadata": {},
     "output_type": "display_data"
    }
   ],
   "source": [
    "%R print(importance(rfc, type=2))"
   ]
  },
  {
   "cell_type": "markdown",
   "metadata": {},
   "source": [
    "As can be seen in the plot below, there is not much difference in this two type of importances, at least for this dataset. However, some of the least important features are mixed up.\n",
    "\n",
    "**TODO:** E' possibile sistemare i grafici in modo che le didascalie siano più visibili? Possiamo usare barh al posto di barplot per fare dei grafici con barre orizzontali anziché verticali, vedi esempio: http://matplotlib.org/examples/lines_bars_and_markers/barh_demo.html\n",
    "\n",
    "possiamo anche mettere i due grafici affiancati come nell'esempio al fondo di np03v03_numpy_plotting"
   ]
  },
  {
   "cell_type": "code",
   "execution_count": 24,
   "metadata": {
    "collapsed": false
   },
   "outputs": [
    {
     "data": {
      "image/png": "[encoded data removed]"
     },
     "metadata": {},
     "output_type": "display_data"
    },
    {
     "data": {
      "text/plain": [
       "[1] \"MeanDecreaseAccuracy\"\n"
      ]
     },
     "metadata": {},
     "output_type": "display_data"
    }
   ],
   "source": [
    "#%R imp = importance(rfc, type = 1)\n",
    "#%R barplot(imp[order(-imp)[1:10],1], cex.names=0.6, las=2, col=\"red\", ylim=c(0,100))\n",
    "%R imp <- rfc$importance[,3] / rfc$importanceSD[,3]\n",
    "%R impOrd <- order(-imp)\n",
    "%R barplot(imp[impOrd[1:10]], cex.names=0.6, las=2, col=\"red\", horiz=T)\n",
    "%R print(\"MeanDecreaseAccuracy\")"
   ]
  },
  {
   "cell_type": "code",
   "execution_count": 25,
   "metadata": {
    "collapsed": false
   },
   "outputs": [
    {
     "data": {
      "image/png": "[encoded data removed]"
     },
     "metadata": {},
     "output_type": "display_data"
    },
    {
     "data": {
      "text/plain": [
       "[1] \"MeanDecreaseGini\"\n"
      ]
     },
     "metadata": {},
     "output_type": "display_data"
    }
   ],
   "source": [
    "%R imp <- rfc$importance[,4]\n",
    "%R barplot(rfc$importance[order(-imp)[1:10],4], cex.names=0.6, las=2, col=\"red\", horiz=TRUE)\n",
    "%R print(\"MeanDecreaseGini\")"
   ]
  },
  {
   "cell_type": "code",
   "execution_count": 13,
   "metadata": {
    "collapsed": false
   },
   "outputs": [
    {
     "data": {
      "image/png": "[encoded data removed]"
     },
     "metadata": {},
     "output_type": "display_data"
    },
    {
     "data": {
      "text/plain": [
       "[1] \"Average Importance plots\"\n"
      ]
     },
     "metadata": {},
     "output_type": "display_data"
    }
   ],
   "source": [
    "%R varImpPlot(rfc, main=\" Average Importance plots\")\n",
    "%R print(\"Average Importance plots\")"
   ]
  },
  {
   "cell_type": "markdown",
   "metadata": {},
   "source": [
    "In **R**, there are many ways (and many functions) for plotting each plot. `varImpPlot` is a function that automatically plots variable importance with axis exchanged for better reading (feature names are read more easily if horizontal)."
   ]
  },
  {
   "cell_type": "markdown",
   "metadata": {},
   "source": [
    "### 5.2 Feature selection\n",
    "\n",
    "With the package `varSelRF` it is possible to use Random Forests to automatically choose the best subset of variables among that in the dataset. It is an automatical procedure in which at each itearation the least important variables are discarded until the OOB score stop to decrease. "
   ]
  },
  {
   "cell_type": "code",
   "execution_count": null,
   "metadata": {
    "collapsed": true
   },
   "outputs": [],
   "source": [
    "%R library(varSelRF)\n",
    "%R rf.vs1 = varSelRF(data[,-(ncol(data))], data[,ncol(data)], ntree = 200, ntreeIterat = 100, vars.drop.frac = 0.2, mtryFactor = 5)\n",
    "#command:\n",
    "#rf.vs1 = varSelRF(data[,-(ncol(data))], \n",
    "#                  data[,ncol(data)], \n",
    "#                  ntree = 200, \n",
    "#                  ntreeIterat = 100, \n",
    "#                  vars.drop.frac = 0.2, \n",
    "#                  mtryFactor = 5)\n",
    "%R print(rf.vs1)"
   ]
  },
  {
   "cell_type": "code",
   "execution_count": null,
   "metadata": {
    "collapsed": true
   },
   "outputs": [],
   "source": [
    "%R plot(rf.vs1)"
   ]
  },
  {
   "cell_type": "markdown",
   "metadata": {},
   "source": [
    "This picture shows the initial variable importances and the change in OOB error corresponding to the number of variables used. "
   ]
  },
  {
   "cell_type": "markdown",
   "metadata": {},
   "source": [
    "### 5.3 Proximity plot\n",
    "\n",
    "**TODO:** Se non riusciamo a dare un significato o un'interpretazione a questi grafici, forse sarebbe meglio toglierli..\n",
    "\n",
    "If the parameter proximity is set to True, during the process of growing a random forest, an $N \\times N$ proximity matrix is accumulated for the training data. For every tree, any pair of oob observations sharing a leaf has their proximity increased. The matrix is then scaled to be represented in two dimensions. Proximity plot gives an indication of which observation are effectively close as learned by the random forest classifier.\n",
    "\n",
    "Proximity plots for random forests often look very similar they tend to have a star shape,\n",
    "one arm per class, which is more pronounced the better the classification\n",
    "performance."
   ]
  },
  {
   "cell_type": "code",
   "execution_count": null,
   "metadata": {
    "collapsed": true
   },
   "outputs": [],
   "source": [
    "%R MDSplot(rfc, data[,ncol(data)])\n",
    "%R print(\"Multi-dimensional Scaling Plot of Proximity matrix from randomForest\")"
   ]
  }
 ],
 "metadata": {
  "kernelspec": {
   "display_name": "Python 2",
   "language": "python",
   "name": "python2"
  },
  "language_info": {
   "codemirror_mode": {
    "name": "ipython",
    "version": 2
   },
   "file_extension": ".py",
   "mimetype": "text/x-python",
   "name": "python",
   "nbconvert_exporter": "python",
   "pygments_lexer": "ipython2",
   "version": "2.7.6"
  }
 },
 "nbformat": 4,
 "nbformat_minor": 0
}
