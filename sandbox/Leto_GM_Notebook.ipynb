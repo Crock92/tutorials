{
 "cells": [
  {
   "cell_type": "code",
   "execution_count": 1,
   "metadata": {
    "collapsed": false
   },
   "outputs": [],
   "source": [
    "import numpy as np\n",
    "import pandas as pd"
   ]
  },
  {
   "cell_type": "code",
   "execution_count": 2,
   "metadata": {
    "collapsed": false
   },
   "outputs": [],
   "source": [
    "#caricamento dei dati\n",
    "in_data = pd.read_csv('exported_data.csv', sep=',',header=0)\n",
    "data = in_data.fillna(method='ffill') # ci sono pochi dati, meglio non buttare via informazione ..\n",
    "#data = in_data.dropna()"
   ]
  },
  {
   "cell_type": "code",
   "execution_count": 3,
   "metadata": {
    "collapsed": false
   },
   "outputs": [
    {
     "data": {
      "text/plain": [
       "['EXHAUST_70TH_AVE',\n",
       " 'INTAKE_70TH_AVE',\n",
       " 'CYL_HEA_70TH_AVE',\n",
       " 'EXHAUST_140TH_AVE',\n",
       " 'INTAKE_140TH_AVE']"
      ]
     },
     "execution_count": 3,
     "metadata": {},
     "output_type": "execute_result"
    }
   ],
   "source": [
    "columns = list(data.columns.values)\n",
    "features_c = columns[6:]\n",
    "outcomes_c = columns[:5]\n",
    "\n",
    "outcomes_c"
   ]
  },
  {
   "cell_type": "code",
   "execution_count": 4,
   "metadata": {
    "collapsed": false
   },
   "outputs": [
    {
     "name": "stdout",
     "output_type": "stream",
     "text": [
      "Optimal number of features : 3\n"
     ]
    },
    {
     "name": "stderr",
     "output_type": "stream",
     "text": [
      "/Users/enrico/anaconda/lib/python2.7/site-packages/sklearn/cross_validation.py:417: Warning: The least populated class in y has only 2 members, which is too few. The minimum number of labels for any class cannot be less than n_folds=3.\n",
      "  % (min_labels, self.n_folds)), Warning)\n"
     ]
    }
   ],
   "source": [
    "import matplotlib.pyplot as plt\n",
    "from sklearn.svm import SVC\n",
    "from sklearn.feature_selection import RFECV\n",
    "\n",
    "X = pd.DataFrame(data, columns=features_c)\n",
    "\n",
    "# training rispetto all'individuazione del rumore 70 esimo ordine sul sensore INTAKE_70TH_AVE \n",
    "accel_values = data.INTAKE_70TH_AVE\n",
    "y = accel_values > 125\n",
    "\n",
    "# SVM-RFE \n",
    "estimator = SVC(kernel=\"linear\")\n",
    "rfecv = RFECV(estimator=estimator, step = 1, verbose = 0)\n",
    "rfecv.fit(X, y)\n",
    "\n",
    "print(\"Optimal number of features : %d\" % rfecv.n_features_)\n",
    "\n",
    "## Plot number of features VS. cross-validation scores\n",
    "#plt.figure()\n",
    "#plt.xlabel(\"Number of features selected\")\n",
    "#plt.ylabel(\"Cross validation score (nb of correct classifications)\")\n",
    "#plt.plot(range(1, len(rfecv.grid_scores_) + 1), rfecv.grid_scores_)\n",
    "#plt.show()"
   ]
  },
  {
   "cell_type": "code",
   "execution_count": 5,
   "metadata": {
    "collapsed": false
   },
   "outputs": [
    {
     "data": {
      "text/html": [
       "<div style=\"max-height:1000px;max-width:1500px;overflow:auto;\">\n",
       "<table border=\"1\" class=\"dataframe\">\n",
       "  <thead>\n",
       "    <tr style=\"text-align: right;\">\n",
       "      <th></th>\n",
       "      <th>I149</th>\n",
       "      <th>I233</th>\n",
       "      <th>I237</th>\n",
       "    </tr>\n",
       "  </thead>\n",
       "  <tbody>\n",
       "    <tr>\n",
       "      <th>count</th>\n",
       "      <td>44.000000</td>\n",
       "      <td>44.000000</td>\n",
       "      <td>44.000000</td>\n",
       "    </tr>\n",
       "    <tr>\n",
       "      <th>mean</th>\n",
       "      <td>10.688636</td>\n",
       "      <td>8.911364</td>\n",
       "      <td>9.290909</td>\n",
       "    </tr>\n",
       "    <tr>\n",
       "      <th>std</th>\n",
       "      <td>4.038375</td>\n",
       "      <td>2.571599</td>\n",
       "      <td>3.864015</td>\n",
       "    </tr>\n",
       "    <tr>\n",
       "      <th>min</th>\n",
       "      <td>4.200000</td>\n",
       "      <td>5.100000</td>\n",
       "      <td>4.300000</td>\n",
       "    </tr>\n",
       "    <tr>\n",
       "      <th>25%</th>\n",
       "      <td>7.800000</td>\n",
       "      <td>7.150000</td>\n",
       "      <td>7.125000</td>\n",
       "    </tr>\n",
       "    <tr>\n",
       "      <th>50%</th>\n",
       "      <td>9.550000</td>\n",
       "      <td>8.600000</td>\n",
       "      <td>9.000000</td>\n",
       "    </tr>\n",
       "    <tr>\n",
       "      <th>75%</th>\n",
       "      <td>11.925000</td>\n",
       "      <td>9.725000</td>\n",
       "      <td>10.200000</td>\n",
       "    </tr>\n",
       "    <tr>\n",
       "      <th>max</th>\n",
       "      <td>21.700000</td>\n",
       "      <td>16.200000</td>\n",
       "      <td>28.200000</td>\n",
       "    </tr>\n",
       "  </tbody>\n",
       "</table>\n",
       "</div>"
      ],
      "text/plain": [
       "            I149       I233       I237\n",
       "count  44.000000  44.000000  44.000000\n",
       "mean   10.688636   8.911364   9.290909\n",
       "std     4.038375   2.571599   3.864015\n",
       "min     4.200000   5.100000   4.300000\n",
       "25%     7.800000   7.150000   7.125000\n",
       "50%     9.550000   8.600000   9.000000\n",
       "75%    11.925000   9.725000  10.200000\n",
       "max    21.700000  16.200000  28.200000"
      ]
     },
     "execution_count": 5,
     "metadata": {},
     "output_type": "execute_result"
    }
   ],
   "source": [
    "feats = rfecv.get_support()\n",
    "feats_name = [ features_c[i] for i in range(0, len(features_c)) if feats[i] ]\n",
    "feats_selected = pd.DataFrame(data, columns=feats_name)\n",
    "feats_selected.describe() # le features selezionate"
   ]
  },
  {
   "cell_type": "code",
   "execution_count": 6,
   "metadata": {
    "collapsed": false
   },
   "outputs": [
    {
     "data": {
      "text/plain": [
       "array([ True], dtype=bool)"
      ]
     },
     "execution_count": 6,
     "metadata": {},
     "output_type": "execute_result"
    }
   ],
   "source": [
    "rfecv.predict(X.xs(19)) # si potrebbero usare i nuovi dati del cliente per fare dei test"
   ]
  },
  {
   "cell_type": "code",
   "execution_count": null,
   "metadata": {
    "collapsed": true
   },
   "outputs": [],
   "source": []
  }
 ],
 "metadata": {
  "kernelspec": {
   "display_name": "Python 2",
   "language": "python",
   "name": "python2"
  },
  "language_info": {
   "codemirror_mode": {
    "name": "ipython",
    "version": 2
   },
   "file_extension": ".py",
   "mimetype": "text/x-python",
   "name": "python",
   "nbconvert_exporter": "python",
   "pygments_lexer": "ipython2",
   "version": "2.7.9"
  }
 },
 "nbformat": 4,
 "nbformat_minor": 0
}
