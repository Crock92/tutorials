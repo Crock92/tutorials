{
 "metadata": {
  "name": "",
  "signature": "sha256:234d2eae7ce4a9581a7459fc3fee0e2f483c630c11694af954615642a74597d7"
 },
 "nbformat": 3,
 "nbformat_minor": 0,
 "worksheets": [
  {
   "cells": [
    {
     "cell_type": "markdown",
     "metadata": {},
     "source": [
      "# Test Faker"
     ]
    },
    {
     "cell_type": "markdown",
     "metadata": {},
     "source": [
      "Use `faker.Factory.create()` to create and initialize a faker generator, which can generate data by accessing properties named after the type of data you want."
     ]
    },
    {
     "cell_type": "code",
     "collapsed": false,
     "input": [
      "from faker import Factory\n",
      "fakeIT = Factory.create('it_IT')"
     ],
     "language": "python",
     "metadata": {},
     "outputs": [],
     "prompt_number": 5
    },
    {
     "cell_type": "code",
     "collapsed": false,
     "input": [
      "for i in xrange(5):\n",
      "    print i, fakeIT.name()"
     ],
     "language": "python",
     "metadata": {},
     "outputs": [
      {
       "output_type": "stream",
       "stream": "stdout",
       "text": [
        "0 Dott. Renzo Palmieri\n",
        "1 Moreno Rossetti\n",
        "2 Dott. Doriana Moretti\n",
        "3 Vitalba Lombardo\n",
        "4 Clodovea Vitale\n"
       ]
      }
     ],
     "prompt_number": 2
    },
    {
     "cell_type": "code",
     "collapsed": false,
     "input": [
      "[fakeIT.name(), fakeIT.city() for i in xrange(5)]"
     ],
     "language": "python",
     "metadata": {},
     "outputs": [
      {
       "ename": "SyntaxError",
       "evalue": "invalid syntax (<ipython-input-13-fc3bc16267d2>, line 1)",
       "output_type": "pyerr",
       "traceback": [
        "\u001b[0;36m  File \u001b[0;32m\"<ipython-input-13-fc3bc16267d2>\"\u001b[0;36m, line \u001b[0;32m1\u001b[0m\n\u001b[0;31m    [fakeIT.name(), fakeIT.city() for i in xrange(5)]\u001b[0m\n\u001b[0m                                    ^\u001b[0m\n\u001b[0;31mSyntaxError\u001b[0m\u001b[0;31m:\u001b[0m invalid syntax\n"
       ]
      }
     ],
     "prompt_number": 13
    },
    {
     "cell_type": "code",
     "collapsed": false,
     "input": [
      "fakeIT.seed(0)\n",
      "[fakeIT.name() for i in xrange(5)]"
     ],
     "language": "python",
     "metadata": {},
     "outputs": [
      {
       "metadata": {},
       "output_type": "pyout",
       "prompt_number": 17,
       "text": [
        "[u'Evita Conte',\n",
        " u'Ippolito Parisi',\n",
        " u'Samuel Marini',\n",
        " u'Naomi Messina',\n",
        " u'Eufemia Morelli']"
       ]
      }
     ],
     "prompt_number": 17
    },
    {
     "cell_type": "code",
     "collapsed": false,
     "input": [
      "import pandas as pd"
     ],
     "language": "python",
     "metadata": {},
     "outputs": [],
     "prompt_number": 1
    },
    {
     "cell_type": "code",
     "collapsed": false,
     "input": [
      "data = {'Name' : [fakeIT.name() for i in xrange(5)],\n",
      "        'Company' : [fakeIT.company() for i in xrange(5)],\n",
      "        'City' : [fakeIT.city() for i in xrange(5)]}"
     ],
     "language": "python",
     "metadata": {},
     "outputs": [],
     "prompt_number": 26
    },
    {
     "cell_type": "code",
     "collapsed": false,
     "input": [
      "df = pd.DataFrame(data, columns = ['Name','Company','City'])\n",
      "df"
     ],
     "language": "python",
     "metadata": {},
     "outputs": [
      {
       "html": [
        "<div style=\"max-height:1000px;max-width:1500px;overflow:auto;\">\n",
        "<table border=\"1\" class=\"dataframe\">\n",
        "  <thead>\n",
        "    <tr style=\"text-align: right;\">\n",
        "      <th></th>\n",
        "      <th>Name</th>\n",
        "      <th>Company</th>\n",
        "      <th>City</th>\n",
        "    </tr>\n",
        "  </thead>\n",
        "  <tbody>\n",
        "    <tr>\n",
        "      <th>0</th>\n",
        "      <td> Sig.ra Nayade Bianchi</td>\n",
        "      <td>             Vitale, Amato e Bianchi SPA</td>\n",
        "      <td> Orlando salentino</td>\n",
        "    </tr>\n",
        "    <tr>\n",
        "      <th>1</th>\n",
        "      <td>   Sig.ra Teseo Barone</td>\n",
        "      <td> Martini, Marchetti e Pellegrini e figli</td>\n",
        "      <td>    Quarto Danthon</td>\n",
        "    </tr>\n",
        "    <tr>\n",
        "      <th>2</th>\n",
        "      <td> Dott. Alighiero Gatti</td>\n",
        "      <td>                     Mariani-Bianchi SPA</td>\n",
        "      <td>     Quarto Mietta</td>\n",
        "    </tr>\n",
        "    <tr>\n",
        "      <th>3</th>\n",
        "      <td>           Odone Rossi</td>\n",
        "      <td>                    Ricci-Parisi e figli</td>\n",
        "      <td>   Amato salentino</td>\n",
        "    </tr>\n",
        "    <tr>\n",
        "      <th>4</th>\n",
        "      <td>        Ubaldo Martino</td>\n",
        "      <td>                      Greco-Neri e figli</td>\n",
        "      <td>  Silvestri a mare</td>\n",
        "    </tr>\n",
        "  </tbody>\n",
        "</table>\n",
        "<p>5 rows \u00d7 3 columns</p>\n",
        "</div>"
       ],
       "metadata": {},
       "output_type": "pyout",
       "prompt_number": 32,
       "text": [
        "                    Name                                  Company  \\\n",
        "0  Sig.ra Nayade Bianchi              Vitale, Amato e Bianchi SPA   \n",
        "1    Sig.ra Teseo Barone  Martini, Marchetti e Pellegrini e figli   \n",
        "2  Dott. Alighiero Gatti                      Mariani-Bianchi SPA   \n",
        "3            Odone Rossi                     Ricci-Parisi e figli   \n",
        "4         Ubaldo Martino                       Greco-Neri e figli   \n",
        "\n",
        "                City  \n",
        "0  Orlando salentino  \n",
        "1     Quarto Danthon  \n",
        "2      Quarto Mietta  \n",
        "3    Amato salentino  \n",
        "4   Silvestri a mare  \n",
        "\n",
        "[5 rows x 3 columns]"
       ]
      }
     ],
     "prompt_number": 32
    },
    {
     "cell_type": "code",
     "collapsed": false,
     "input": [
      "fakeIT.address()"
     ],
     "language": "python",
     "metadata": {},
     "outputs": [
      {
       "metadata": {},
       "output_type": "pyout",
       "prompt_number": 8,
       "text": [
        "u'Contrada Ferrari 398 Piano 5\\nSesto Giovanna, 40693 Brescia (CO)'"
       ]
      }
     ],
     "prompt_number": 8
    },
    {
     "cell_type": "code",
     "collapsed": false,
     "input": [
      "fakeIT.building_number()"
     ],
     "language": "python",
     "metadata": {},
     "outputs": [
      {
       "metadata": {},
       "output_type": "pyout",
       "prompt_number": 9,
       "text": [
        "u'535'"
       ]
      }
     ],
     "prompt_number": 9
    },
    {
     "cell_type": "code",
     "collapsed": false,
     "input": [
      "fakeIT.city()"
     ],
     "language": "python",
     "metadata": {},
     "outputs": [
      {
       "metadata": {},
       "output_type": "pyout",
       "prompt_number": 10,
       "text": [
        "u'San Moreno calabro'"
       ]
      }
     ],
     "prompt_number": 10
    },
    {
     "cell_type": "code",
     "collapsed": false,
     "input": [
      "fakeIT.seed(0)\n",
      "[fakeIT.company() for i in xrange(5)]"
     ],
     "language": "python",
     "metadata": {},
     "outputs": [
      {
       "metadata": {},
       "output_type": "pyout",
       "prompt_number": 18,
       "text": [
        "[u'Guerra, Conte e Caruso Group',\n",
        " u'Martino-Longo e figli',\n",
        " u'Neri-Messina e figli',\n",
        " u'Morelli, Caruso e Neri s.r.l.',\n",
        " u'Neri, Gentile e Rossetti s.r.l.']"
       ]
      }
     ],
     "prompt_number": 18
    },
    {
     "cell_type": "code",
     "collapsed": false,
     "input": [
      "fakeIT.seed(0)\n",
      "[fakeIT.company_email() for i in xrange(5)]"
     ],
     "language": "python",
     "metadata": {},
     "outputs": [
      {
       "metadata": {},
       "output_type": "pyout",
       "prompt_number": 19,
       "text": [
        "[u'vguerra@sala.info',\n",
        " u'gaetano.rizzi@messina.com',\n",
        " u'qdamico@gentile.com',\n",
        " u'ferraro.quasimodo@damico.net',\n",
        " u'amedeo73@grassi.com']"
       ]
      }
     ],
     "prompt_number": 19
    },
    {
     "cell_type": "code",
     "collapsed": false,
     "input": [
      "fakeIT.phone_number()"
     ],
     "language": "python",
     "metadata": {},
     "outputs": [
      {
       "metadata": {},
       "output_type": "pyout",
       "prompt_number": 34,
       "text": [
        "u'+54 45 64392743'"
       ]
      }
     ],
     "prompt_number": 34
    },
    {
     "cell_type": "code",
     "collapsed": false,
     "input": [],
     "language": "python",
     "metadata": {},
     "outputs": []
    }
   ],
   "metadata": {}
  }
 ]
}