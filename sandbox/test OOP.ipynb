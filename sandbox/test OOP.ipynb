{
 "metadata": {
  "name": "",
  "signature": "sha256:676e2cebf3adce9f90375e903255325ce75321d7b1c05a7bc7a26be3044da40c"
 },
 "nbformat": 3,
 "nbformat_minor": 0,
 "worksheets": [
  {
   "cells": [
    {
     "cell_type": "code",
     "collapsed": false,
     "input": [
      "from addutils import css_notebook\n",
      "css_notebook()"
     ],
     "language": "python",
     "metadata": {},
     "outputs": [
      {
       "html": [
        "<style>\n",
        "    @font-face {\n",
        "        font-family: \"Computer Modern\";\n",
        "        src: url('http://mirrors.ctan.org/fonts/cm-unicode/fonts/otf/cmunss.otf');\n",
        "    }\n",
        "    div.cell{\n",
        "        width:900px;\n",
        "        margin-left:0% !important;\n",
        "        margin-right:0%;\n",
        "    }\n",
        "\n",
        "\tcode{\n",
        "\t\tfont-size:10pt\n",
        "\t}\n",
        "\n",
        "    h1 {\n",
        "        font-family: Tahoma, sans-serif;\n",
        "\t\tcolor: rgb( 10, 88, 126 );\n",
        "\t\tfont-size:28pt;\n",
        "    }\n",
        "\th2 {\n",
        "        font-family: Tahoma, sans-serif;\n",
        "\t\tcolor: rgb( 10, 88, 126 );\n",
        "\t\tfont-size:24pt;\n",
        "    }\n",
        "\th3 {\n",
        "        font-family: Tahoma, sans-serif;\n",
        "\t\tcolor: rgb( 10, 88, 126 );\n",
        "\t\tfont-size:20pt;\n",
        "    }\n",
        "    h4 {\n",
        "\t\tfont-family: Tahoma, sans-serif;\n",
        "\t\tcolor: rgb( 10, 88, 126 );\n",
        "\t\tfont-size:18pt;\n",
        "        margin-top:12px;\n",
        "        margin-bottom: 3px;\n",
        "       }\n",
        "\n",
        "\tul {\n",
        "\t\tfont-family: Tahoma, sans-serif;\n",
        "\t\tcolor: rgb( 90, 90, 90 );\n",
        "\t\tfont-size:11pt;\n",
        "\t\tline-height: 185%;\n",
        "\t\t}\n",
        "\n",
        "\tp {\n",
        "\t\tfont-family: Tahoma, sans-serif;\n",
        "\t\tcolor: rgb( 90, 90, 90 );\n",
        "\t\tfont-size:11pt;\n",
        "\t\t}\n",
        "\n",
        "\tstrong {\n",
        "\t\tfont-family: Tahoma, sans-serif;\n",
        "\t\tcolor: rgb( 30, 30, 30 );\n",
        "\t\tfont-size:11pt;\n",
        "\t\t}\n",
        "\n",
        "\ta:link {\n",
        "\t\tfont-family: Tahoma, sans-serif;\n",
        "\t\tcolor: rgb( 10, 88, 126 );\n",
        "\t\tfont-size:11pt;\n",
        "\t\t}\n",
        "\n",
        "\ta:visited {\n",
        "\t\tcolor:rgb( 10, 88, 126 );\n",
        "\t}\n",
        "\n",
        "    div.text_cell_render{\n",
        "        font-family: Helvetica, Courier, Computer Modern, \"Helvetica Neue\", Arial, Geneva, sans-serif;\n",
        "\t\tcolor: rgb( 84, 84, 84 );\n",
        "\t\tfont-size:11pt;\n",
        "        line-height: 125%;\n",
        "        font-size: 100%;\n",
        "        width:800px;\n",
        "        margin-left:auto;\n",
        "        margin-right:auto;\n",
        "    }\n",
        "    .CodeMirror{\n",
        "            font-family: Courier, \"Source Code Pro\", source-code-pro,Consolas, monospace;\n",
        "    }\n",
        "\n",
        "    .text_cell_render h5 {\n",
        "        font-weight: 300;\n",
        "        font-size: 11pt;\n",
        "        color: rgb( 48, 48, 48 );\n",
        "        font-style: italic;\n",
        "        margin-bottom: .5em;\n",
        "        margin-top: 0.5em;\n",
        "        display: block;\n",
        "    }\n",
        "\n",
        "    .warning{\n",
        "        color: rgb( 240, 20, 20 )\n",
        "        }\n",
        ".rendered_html td\n",
        "{\n",
        "text-align: right;\n",
        "}\n",
        "\n",
        "</style>\n",
        "<script>\n",
        "    MathJax.Hub.Config({\n",
        "                        TeX: {\n",
        "                           extensions: [\"AMSmath.js\"]\n",
        "                           },\n",
        "                displayAlign: 'center', // Change this to 'center' to center equations.\n",
        "                \"HTML-CSS\": {\n",
        "                    styles: {'.MathJax_Display': {\"margin\": 4}}\n",
        "                }\n",
        "        });\n",
        "</script>\n"
       ],
       "metadata": {},
       "output_type": "pyout",
       "prompt_number": 1,
       "text": [
        "<IPython.core.display.HTML at 0x102ecee10>"
       ]
      }
     ],
     "prompt_number": 1
    },
    {
     "cell_type": "code",
     "collapsed": false,
     "input": [
      "class Person(object):\n",
      "    def __init__(self, name, surname, year_of_birth,\n",
      "                 status='Not Married'):\n",
      "        self._name = name\n",
      "        self._surname = surname\n",
      "        self._year_of_birth = year_of_birth\n",
      "        self.marital_status = status\n",
      "        \n",
      "    def age(self, current_year):\n",
      "        return current_year - self._year_of_birth\n",
      "    \n",
      "    def __str__(self):\n",
      "        return '%s %s' %(self._name, self._surname)\n",
      "    "
     ],
     "language": "python",
     "metadata": {},
     "outputs": [],
     "prompt_number": 25
    },
    {
     "cell_type": "code",
     "collapsed": false,
     "input": [
      "alec = Person(\"Alec\", \"Baldwin\", 1958, 'Married')\n",
      "print alec\n",
      "print 'Age: ', alec.age(2014)"
     ],
     "language": "python",
     "metadata": {},
     "outputs": [
      {
       "output_type": "stream",
       "stream": "stdout",
       "text": [
        "Alec Baldwin\n",
        "Age:  56\n"
       ]
      }
     ],
     "prompt_number": 26
    },
    {
     "cell_type": "code",
     "collapsed": false,
     "input": [
      "class Student(Person):\n",
      "    def __init__(self, student_id, *args, **kwargs):\n",
      "        super(Student, self).__init__(*args, **kwargs)\n",
      "        self._student_id = student_id"
     ],
     "language": "python",
     "metadata": {},
     "outputs": [],
     "prompt_number": 27
    },
    {
     "cell_type": "code",
     "collapsed": false,
     "input": [
      "jim = Person(\"Jim\", \"Kant\", 1985, 'Not Married')"
     ],
     "language": "python",
     "metadata": {},
     "outputs": [],
     "prompt_number": 28
    },
    {
     "cell_type": "code",
     "collapsed": false,
     "input": [
      "student_6673 = Student(6673, jim)"
     ],
     "language": "python",
     "metadata": {},
     "outputs": [
      {
       "ename": "TypeError",
       "evalue": "__init__() takes at least 4 arguments (2 given)",
       "output_type": "pyerr",
       "traceback": [
        "\u001b[0;31m---------------------------------------------------------------------------\u001b[0m\n\u001b[0;31mTypeError\u001b[0m                                 Traceback (most recent call last)",
        "\u001b[0;32m<ipython-input-29-61b8b2687bce>\u001b[0m in \u001b[0;36m<module>\u001b[0;34m()\u001b[0m\n\u001b[0;32m----> 1\u001b[0;31m \u001b[0mstudent_6673\u001b[0m \u001b[0;34m=\u001b[0m \u001b[0mStudent\u001b[0m\u001b[0;34m(\u001b[0m\u001b[0;36m6673\u001b[0m\u001b[0;34m,\u001b[0m \u001b[0mjim\u001b[0m\u001b[0;34m)\u001b[0m\u001b[0;34m\u001b[0m\u001b[0m\n\u001b[0m",
        "\u001b[0;32m<ipython-input-27-17a0360aa204>\u001b[0m in \u001b[0;36m__init__\u001b[0;34m(self, student_id, *args, **kwargs)\u001b[0m\n\u001b[1;32m      1\u001b[0m \u001b[0;32mclass\u001b[0m \u001b[0mStudent\u001b[0m\u001b[0;34m(\u001b[0m\u001b[0mPerson\u001b[0m\u001b[0;34m)\u001b[0m\u001b[0;34m:\u001b[0m\u001b[0;34m\u001b[0m\u001b[0m\n\u001b[1;32m      2\u001b[0m     \u001b[0;32mdef\u001b[0m \u001b[0m__init__\u001b[0m\u001b[0;34m(\u001b[0m\u001b[0mself\u001b[0m\u001b[0;34m,\u001b[0m \u001b[0mstudent_id\u001b[0m\u001b[0;34m,\u001b[0m \u001b[0;34m*\u001b[0m\u001b[0margs\u001b[0m\u001b[0;34m,\u001b[0m \u001b[0;34m**\u001b[0m\u001b[0mkwargs\u001b[0m\u001b[0;34m)\u001b[0m\u001b[0;34m:\u001b[0m\u001b[0;34m\u001b[0m\u001b[0m\n\u001b[0;32m----> 3\u001b[0;31m         \u001b[0msuper\u001b[0m\u001b[0;34m(\u001b[0m\u001b[0mStudent\u001b[0m\u001b[0;34m,\u001b[0m \u001b[0mself\u001b[0m\u001b[0;34m)\u001b[0m\u001b[0;34m.\u001b[0m\u001b[0m__init__\u001b[0m\u001b[0;34m(\u001b[0m\u001b[0;34m*\u001b[0m\u001b[0margs\u001b[0m\u001b[0;34m,\u001b[0m \u001b[0;34m**\u001b[0m\u001b[0mkwargs\u001b[0m\u001b[0;34m)\u001b[0m\u001b[0;34m\u001b[0m\u001b[0m\n\u001b[0m\u001b[1;32m      4\u001b[0m         \u001b[0mself\u001b[0m\u001b[0;34m.\u001b[0m\u001b[0m_student_id\u001b[0m \u001b[0;34m=\u001b[0m \u001b[0mstudent_id\u001b[0m\u001b[0;34m\u001b[0m\u001b[0m\n",
        "\u001b[0;31mTypeError\u001b[0m: __init__() takes at least 4 arguments (2 given)"
       ]
      }
     ],
     "prompt_number": 29
    },
    {
     "cell_type": "code",
     "collapsed": false,
     "input": [],
     "language": "python",
     "metadata": {},
     "outputs": []
    }
   ],
   "metadata": {}
  }
 ]
}